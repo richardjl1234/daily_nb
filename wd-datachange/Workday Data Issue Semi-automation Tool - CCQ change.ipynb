{
 "cells": [
  {
   "cell_type": "markdown",
   "metadata": {},
   "source": [
    "## Workday Data Issue Semi-automation Tool (CCQ change)\n",
    "\n",
    "This is a semi-automation tool which to facilate to performa the CCQ change requests\n",
    "  \n",
    "**Attention:**   This tool handles CCQ change request only\n",
    "\n",
    "\n",
    "\n",
    "+ Step 1: **Check** if there's any open entries in the box folder. \n",
    "https://ibm.ent.box.com/file/731569093722\n",
    "\n",
    "+ Step 2: **Validation** for cnums and field names\n",
    "+ Step 3: _if there's open ticket in box file, we will **create the jira ticket** to handle._\n",
    "https://jsw.ibm.com/browse/ODMODMR-91\n",
    "\n",
    "+ Step 4: _**Update the box file** spreadsheet with correct jira ticket number, and check the status from \"Not Started\" to \"in processing\"_\n",
    "\n",
    "+ Step 5: Read the spreadsheet and **generate the contents** for jira task (for all tickets with which status = 'in processing')\n",
    "\n",
    "+ Step 6: Prepare **REK input** csv file\n",
    "\n",
    "+ Step 7: **upload the CSV** file to MF server \n",
    "\n",
    "+ _Step 8: Execute the **RDSU load process** to load the REK table_\n",
    "+ _Step 9: Execute the **CCQ change process** to perform the deletion_\n",
    "+ _Step 10: **Confirm** the result_\n",
    "+ _Step 11: Update the JIRA task and box spreadsheet to **close** the ticket_"
   ]
  },
  {
   "cell_type": "code",
   "execution_count": null,
   "metadata": {},
   "outputs": [],
   "source": [
    "# Parameters\n",
    "user = 'C943511'  # the userid in the JCL ODMSUBRJ, can be changed to Hans's ID e.g.\n",
    "user_email = 'IBMCN.JIANGLEI -'\n",
    "#user = 'NL62958'  # the userid in the JCL ODMSUBRJ, can be changed to Hans's ID e.g.\n",
    "file_id = '731569093722'  # the box file id which holds the request spreadsheet\n",
    "tbname = 'ODMT_EMPLOYEE'  # you can use the odm developer view if you don't have the access to E01\n",
    "#tbname = 'ODMH_EMPLOYEE'  # you can use the odm developer view if you don't have the access to E01\n",
    "#file_id = '766196407533'  # for TEST TEST TEST TEST"
   ]
  },
  {
   "cell_type": "code",
   "execution_count": null,
   "metadata": {},
   "outputs": [],
   "source": [
    "import sys\n",
    "sys.path.append('/odm_modules')\n",
    "from common_func import odm_conn\n",
    "sys.path.append('/app')\n",
    "#from BOX import box_oauth as box\n",
    "from BOX import box_jwt as box\n",
    "import pandas as pd\n",
    "import numpy as np\n",
    "import datetime \n",
    "def cell_format(v):                                                             \n",
    "    return str(v) if isinstance(v, (int)) else str(int(v)) if isinstance(v,(float)) else str(v.date()) if isinstance(v, (datetime.datetime)) else v.decode('utf-8') if isinstance(v, (bytes)) else '' if v is None else str(v).strip()                 "
   ]
  },
  {
   "cell_type": "markdown",
   "metadata": {},
   "source": [
    "### Step 1 Read the file from box folder to check if there's any open items. \n",
    "\n",
    "+ If there's open entries, then show the open entries and do some pre-validation before processing\n",
    "+ if there's no open entries, then STOP here. "
   ]
  },
  {
   "cell_type": "code",
   "execution_count": null,
   "metadata": {
    "scrolled": false
   },
   "outputs": [],
   "source": [
    "client = box.get_box_client()\n",
    "xlsx_file = client.file(file_id).get().name\n",
    "print('File name for the data change request is:\\n\\t{}'.format(xlsx_file))\n",
    "xlsx_content = client.file(file_id).content()\n",
    "df = pd.read_excel(xlsx_content, header =2 ).fillna('').applymap(cell_format)\n",
    "df = df.loc[(df.RSERNUM != '') & (df.C != '*'),:]\n",
    "request_df = df.loc[df.status.isin(['Not Started', '']) ]\n",
    "print('there are {} pending requests from Workday team'.format(request_df.shape[0]))\n",
    "request_df"
   ]
  },
  {
   "cell_type": "markdown",
   "metadata": {},
   "source": [
    "### Step 2 Validataion (only validate those ticket which are in status 'not started')\n",
    "\n",
    "we perform the validation before raise the jira task  \n",
    "+ step 2.1 CCQ and RSERNUM existence check\n"
   ]
  },
  {
   "cell_type": "code",
   "execution_count": null,
   "metadata": {},
   "outputs": [],
   "source": [
    "request_df['condition'] = request_df.apply(lambda row: ' and '.join([\"{} = '{}'\".format(col, row[col]) for col in ['CCOUNTRY', 'CCOUNTRQ', 'RSERNUM']]), axis =1)\n",
    "request_df['condition'] = \"(\" + request_df['condition'] + \")\"\n",
    "condition = '\\nOR '.join(list(request_df.condition))\n",
    "sql = 'select RCNUM, CCOUNTRY, CCOUNTRQ, RSERNUM, CACTIVE, DUPDATE, CFDRSRC \\nFROM ODMPRD.{} \\nWHERE {}'.format(tbname, condition)\n",
    "print(sql)\n",
    "with odm_conn.odm_adhoc('prod') as odmprd_adhoc:\n",
    "    result = odmprd_adhoc(sql)\n",
    "    result_df = pd.DataFrame(result)\n",
    "result_df"
   ]
  },
  {
   "cell_type": "code",
   "execution_count": null,
   "metadata": {
    "scrolled": true
   },
   "outputs": [],
   "source": [
    "request_df_x = request_df.merge(result_df, how = 'left', on = ['CCOUNTRY', 'CCOUNTRQ', 'RSERNUM'])\n",
    "temp_df = request_df_x.loc[request_df_x.RCNUM.isnull()] \n",
    "\n",
    "if temp_df.shape[0] != 0: \n",
    "    print('{} entry could not be found in ODM database, please request Workday COE team to correct!'.format(temp_df.shape[0]))\n",
    "    print('-'* 80)\n",
    "    print(str(temp_df.loc[:, ['CCOUNTRY', 'CCOUNTRQ', 'RSERNUM']]))\n",
    "else: \n",
    "    print('VALIDATION PASSED!')"
   ]
  },
  {
   "cell_type": "markdown",
   "metadata": {},
   "source": [
    "### Step 3:  Create the JIRA task to address data change request (Manual  step)\n",
    "\n",
    "if there's open ticket in box file, we will create the jira ticket to handle.   \n",
    "Make sure the jira task is under the following epic   \n",
    "https://jsw.ibm.com/browse/ODMODMR-91\n",
    "\n",
    "\n"
   ]
  },
  {
   "cell_type": "markdown",
   "metadata": {},
   "source": [
    "### Step 4: Update the box file spreadsheet (Manual Step)  \n",
    "+ Put the jira task number in the spreadsheet  \n",
    "https://ibm.ent.box.com/file/731569093722\n",
    "+ Put your name in the spreadsheet\n",
    "+ Change the status from \"Not Started\" to \"In processing\""
   ]
  },
  {
   "cell_type": "markdown",
   "metadata": {},
   "source": [
    "### Step 5: Read the spreadsheet and generate the contents for jira task "
   ]
  },
  {
   "cell_type": "code",
   "execution_count": null,
   "metadata": {},
   "outputs": [],
   "source": [
    "# step 5.1 \n",
    "# read all the ticket for ccq requests\n",
    "client = box.get_box_client()\n",
    "xlsx_file = client.file(file_id).get().name\n",
    "xlsx_content = client.file(file_id).content()\n",
    "df = pd.read_excel(xlsx_content,  header =2 ).fillna('').applymap(cell_format)\n",
    "df = df.loc[(df.RSERNUM != '') & (df.C != '*'),:]\n",
    "request_df = df.loc[(df.status == 'In Processing')]\n",
    "print('there are {} pending CCQ change requests from Workday team'.format(request_df.shape[0]))\n",
    "# get the Category information and task number\n",
    "jira_nbrs = request_df.rtc_task_number.unique()\n",
    "request_df"
   ]
  },
  {
   "cell_type": "code",
   "execution_count": null,
   "metadata": {},
   "outputs": [],
   "source": [
    "print('there are {} jira ticket(s) for CCQ request'.format(len(jira_nbrs)))\n",
    "for jira_nbr in jira_nbrs: \n",
    "    print('https://jsw.ibm.com/browse/{}'.format(jira_nbr))\n",
    "if len(jira_nbrs) >= 2: \n",
    "    while True: \n",
    "        print('please tell which ticket to be handled this time? ({})'.format(', '.join(jira_nbrs)))\n",
    "        jira_nbr = input()\n",
    "        if jira_nbr in jira_nbrs:\n",
    "            print('{} will be handled this time'.format(jira_nbr))\n",
    "            break\n",
    "        else: \n",
    "            print('{} is not a jira ticket number in status \"in-processing\", please try again'.format(jira_nbr))\n",
    "if len(jira_nbrs) == 1: \n",
    "    jira_nbr = jira_nbrs[0]\n",
    "\n",
    "rtc_num = 'RA' + jira_nbr.split('-')[1].zfill(5) \n",
    "request_df_current = request_df.loc[request_df.rtc_task_number == jira_nbr]\n",
    "request_df_current\n",
    "    "
   ]
  },
  {
   "cell_type": "markdown",
   "metadata": {},
   "source": [
    "#### STEP 5.2 Copy the contents into jira task\n",
    "also download the box spreadsheet and upload the spreadsheet to jira task \n"
   ]
  },
  {
   "cell_type": "code",
   "execution_count": null,
   "metadata": {},
   "outputs": [],
   "source": [
    "content_template = '''\n",
    "*Zendesk Ticket*  \n",
    "{zen_list}\n",
    "\n",
    "&nbsp;\n",
    "\n",
    "\n",
    "&nbsp;\n",
    "\n",
    "|CCOUNTRY|CCOUNTRQ|RSERNUM|=>|NCOUNTRY|NCOUNTRQ|NSERNUM \n",
    "{request_entries}\n",
    "&nbsp;   \n",
    "\n",
    "\n",
    "\n",
    "\n",
    "Total impacted cnums are : {impacted_cnt}\n",
    "&nbsp; \n",
    "\n",
    "\n",
    "\n",
    "\n",
    "*Query result before processing:* \n",
    "{sql}\n",
    "\n",
    "&nbsp;\n",
    "\n",
    "\n",
    "\n",
    "{result_col}\n",
    "{result_val}\n",
    "&nbsp;\n",
    "\n",
    "\n",
    "\n",
    "We are going to use existing REK process to perform the deletion, \n",
    "no dry run is needed, the old data will be backuped in 2 datasets. \n",
    "&nbsp;\n",
    "'''"
   ]
  },
  {
   "cell_type": "code",
   "execution_count": null,
   "metadata": {},
   "outputs": [],
   "source": [
    "zen_list = '\\n'.join(list(request_df_current.COE_zendesk_number.unique())) \n",
    "request_entries = '\\n'.join(list(request_df_current.apply(lambda row: \n",
    "                                           ''.join([\"|{}\".format(item) for item in [\n",
    "                                               row.CCOUNTRY, \n",
    "                                               row.CCOUNTRQ,\n",
    "                                               row.RSERNUM,\n",
    "                                               '=>', \n",
    "                                               row.NCOUNTRY, \n",
    "                                               row.NCOUNTRQ,\n",
    "                                               row.NSERNUM,\n",
    "                                           ]]), axis = 1)))\n",
    "impacted_cnt = request_df_current.shape[0]\n",
    "request_df_current['condition'] = request_df_current.apply(lambda row: ' and '.join([\"{} = '{}'\".format(col, row[col]) for col in ['CCOUNTRY', 'CCOUNTRQ', 'RSERNUM']]), axis =1)\n",
    "request_df_current['condition'] = \"(\" + request_df_current['condition'] + \")\"\n",
    "condition = '\\nOR '.join(list(request_df_current.condition))\n",
    "sql = 'select RCNUM, CCOUNTRY, CCOUNTRQ, RSERNUM, CACTIVE, DUPDATE, CFDRSRC \\nFROM ODMPRD.{} \\nWHERE\\n {}'.format(tbname, condition)\n",
    "with odm_conn.odm_adhoc('prod') as odmprd_adhoc:\n",
    "    result = odmprd_adhoc(sql)\n",
    "    result_df = pd.DataFrame(result)\n",
    "result_col = ''.join([\"|{}\".format(col) for col in result_df.columns])\n",
    "result_val = []\n",
    "for idx, row in result_df.iterrows():\n",
    "    result_val.append( ''.join([\"|{}\".format(v)  for v in row.values]))\n",
    "result_val = '\\n'.join(result_val)\n",
    "content = content_template.format(zen_list = zen_list, \n",
    "                                  request_entries = request_entries, \n",
    "                                  impacted_cnt = impacted_cnt, \n",
    "                                 sql = sql, \n",
    "                                 result_col = result_col,\n",
    "                                 result_val = result_val)\n",
    "print(content)"
   ]
  },
  {
   "cell_type": "markdown",
   "metadata": {},
   "source": [
    "### STEP 6 Prepare REK input csv file"
   ]
  },
  {
   "cell_type": "code",
   "execution_count": null,
   "metadata": {},
   "outputs": [],
   "source": [
    "# step 6.1 unload the current REK table\n",
    "cols_list = 'CMODEL\tCCOUNTRY\tCCOUNTRQ\tRSERNUM\tNCOUNTRY\tNCOUNTRQ\tNSERNUM\tRRTCTASK\tFACTION\tCLANGUAG\tFDISCONT\tQSORTSEQ\tTCOUNTRY'\n",
    "cols_list = cols_list.split()\n",
    "with odm_conn.odm_adhoc('prod') as odmprd_adhoc: \n",
    "    result = odmprd_adhoc('select  {} from odmprd.odmt_emp_keychange order by QSORTSEQ'.format(','.join(cols_list)))\n",
    "    df_rek = pd.DataFrame(result)\n",
    "df_rek['C'] = 'R'\n",
    "df_rek = df_rek.reindex(columns = ['C', *cols_list])\n",
    "next_seq = int(df_rek.QSORTSEQ.max()) + 1"
   ]
  },
  {
   "cell_type": "code",
   "execution_count": null,
   "metadata": {},
   "outputs": [],
   "source": [
    "# step 6.2 add the new entries for deletion request\n",
    "ser = {}\n",
    "for idx, row in request_df_current.iterrows():\n",
    "    ser['C'] = 'R'\n",
    "    ser['CMODEL'] = 'IBM'\n",
    "    ser['CCOUNTRY'] = row.CCOUNTRY\n",
    "    ser['CCOUNTRQ'] = row.CCOUNTRQ\n",
    "    ser['RSERNUM'] = row.RSERNUM\n",
    "    ser['NCOUNTRY'] = row.NCOUNTRY\n",
    "    ser['NCOUNTRQ'] = row.NCOUNTRQ\n",
    "    ser['NSERNUM'] = row.NSERNUM\n",
    "    ser['RRTCTASK'] = jira_nbr.split('-')[-1]\n",
    "    ser['FACTION'] = ''\n",
    "    ser['QSORTSEQ'] = str(next_seq)\n",
    "    ser['FDISCONT'] = ''  #####\n",
    "    ser['TCOUNTRY'] = 'zen desk ticket: {}'.format(row.COE_zendesk_number)\n",
    "    df_rek = df_rek.append(ser, ignore_index = True).fillna('')\n",
    "df_rek = df_rek.applymap(cell_format)"
   ]
  },
  {
   "cell_type": "code",
   "execution_count": null,
   "metadata": {},
   "outputs": [],
   "source": [
    "# step 6.3 write csv file and add the first line\n",
    "now = str(datetime.datetime.today().date())\n",
    "df_rek.to_csv('temp.csv', index = False)\n",
    "rek_filename = 'REK_{}.csv'.format(''.join(now.split('-')))\n",
    "with open(rek_filename, 'w') as fw: \n",
    "    fw.write('T,REK - Employee Primary key change (ODMT_EMP_KEYCHANGE),,,,,,,,,,,,\\n')\n",
    "    fw.write(open('temp.csv', 'r').read())\n",
    "print('{} \\nfile is created in local machine which is ready to be uploaded to MF server'.format(rek_filename))"
   ]
  },
  {
   "cell_type": "markdown",
   "metadata": {},
   "source": [
    "+++++++\n",
    "### STEP 7 upload the CSV file to MF server"
   ]
  },
  {
   "cell_type": "code",
   "execution_count": null,
   "metadata": {},
   "outputs": [],
   "source": [
    "# step 7 upload the csv file to stfmvs1 server\n",
    "from common_func import odm_ftp\n",
    "with odm_ftp.odm_ftp_conn('put') as odm_put_file:\n",
    "    server_file = 'ODMAP.RES.ZZ.RDMCSV.IN.EM'\n",
    "    odm_put_file(fm=rek_filename, to= server_file)\n",
    "    print( 'file {} is uploade in server side...'.format(server_file))"
   ]
  },
  {
   "cell_type": "markdown",
   "metadata": {},
   "source": [
    "+++++++\n",
    "### STEP 8 _Execute the RDSU load process to load the REK table_\n",
    "\n",
    "### STEP 9 _Execute the CCQ change process to perform the deletion_\n",
    "\n",
    "### STEP 10 _Confirm the result_\n",
    "\n",
    "\n",
    "### STEP 11 _Update the JIRA task and box spreadsheet to close the ticket_\n"
   ]
  },
  {
   "cell_type": "code",
   "execution_count": null,
   "metadata": {},
   "outputs": [],
   "source": []
  }
 ],
 "metadata": {
  "kernelspec": {
   "display_name": "Python 3",
   "language": "python",
   "name": "python3"
  },
  "language_info": {
   "codemirror_mode": {
    "name": "ipython",
    "version": 3
   },
   "file_extension": ".py",
   "mimetype": "text/x-python",
   "name": "python",
   "nbconvert_exporter": "python",
   "pygments_lexer": "ipython3",
   "version": "3.6.9"
  }
 },
 "nbformat": 4,
 "nbformat_minor": 4
}
