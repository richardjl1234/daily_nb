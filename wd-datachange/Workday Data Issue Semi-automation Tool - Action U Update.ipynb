{
 "cells": [
  {
   "cell_type": "markdown",
   "metadata": {},
   "source": [
    "## Workday Data Issue Semi-automation Tool (for action U only)\n",
    "\n",
    "This is a semi-automation tool which to facilate to performa the manual data update for workday data issues.   \n",
    "  \n",
    "**Attention:** \n",
    "1. This tool only handles the action type for `U`    \n",
    "1. `D` will be handled by another notebook   \n",
    "1. For action `US`, `DS` or `R`, it is out of scope. We will not use tool to handle them. \n",
    "\n",
    "\n",
    "\n",
    "+ Step 1: **Check** if there's any open entries in the box folder. \n",
    "https://ibm.ent.box.com/file/731566115825\n",
    "\n",
    "+ Step 2: **Validation** for cnums and field names\n",
    "+ _Step 3: if there's open ticket in box file, we will **create the jira ticket** to handle._  \n",
    "https://jsw.ibm.com/browse/ODMODMR-91\n",
    "\n",
    "+ _Step 4: **Update the box file** spreadsheet with correct jira ticket number, and check the status from \"Not Started\" to \"in processing\" _\n",
    "\n",
    "+ Step 5: Read the spreadsheet and **generate the contents** for jira task (for action = 'U' and status = 'in processing')\n",
    "\n",
    "+ Step 6: Prepare the **SQL** statement\n",
    "\n",
    "+ Step 7: prepare the **JCL** and write to local file system\n",
    "\n",
    "+ Step 8: Copy the JCL to ODMLD.PRD.RUN(**ODMSUBRJ**)\n",
    "\n",
    "+ Step 9: Trigger the **ODMP911** OPC application **(out of tool scope)**\n",
    "\n",
    "+ Step 10: Download the **dry run result** from the MF server\n",
    "\n",
    "+ _Step 11: post the dry run result onto jira task, leave comments and **request BPO for approval **_\n",
    "\n",
    "+ _Step 12: Once approval from BPO is received, please uploade the JCL again, and perform **real run** (rerun step 5, 6, 7, 8)_\n",
    "\n",
    "+ _Step 13: Download the **real run result** from server to you local machine and then post into jira task, and **close the jira task**_\n",
    "\n",
    "+ _Step 14: Go to BOX file, populate the close date and change the status for those ticket to be **completed (out of tool scope)**_"
   ]
  },
  {
   "cell_type": "code",
   "execution_count": null,
   "metadata": {},
   "outputs": [],
   "source": [
    "# Parameters\n",
    "user = 'C943511'  # the userid in the JCL ODMSUBRJ, can be changed to Hans's ID e.g.\n",
    "#user = 'NL62958'  # the userid in the JCL ODMSUBRJ, can be changed to Hans's ID e.g.\n",
    "file_id = '731566115825'  # the box file id which holds the request spreadsheet\n",
    "tbname = 'ODMT_EMPLOYEE'  # you can use the odm developer view if you don't have the access to E01\n",
    "#tbname = 'ODMH_EMPLOYEE'  # you can use the odm developer view if you don't have the access to E01\n",
    "action = 'U'\n",
    "#file_id = '761862313652'  # for test purpose"
   ]
  },
  {
   "cell_type": "code",
   "execution_count": null,
   "metadata": {},
   "outputs": [],
   "source": [
    "import sys\n",
    "sys.path.append('/odm_modules')\n",
    "from common_func import odm_conn\n",
    "sys.path.append('/app')\n",
    "#from BOX import box_oauth as box\n",
    "from BOX import box_jwt as box\n",
    "import pandas as pd\n",
    "import numpy as np\n",
    "import datetime\n",
    "def cell_format(v):                                                             \n",
    "    return str(v) if isinstance(v, (int)) else str(int(v)) if isinstance(v,float) else str(v.date()) if isinstance(v, datetime.date) else v.decode('utf-8') if isinstance(v, bytes) else '' if v is None else v.strip()                 "
   ]
  },
  {
   "cell_type": "markdown",
   "metadata": {},
   "source": [
    "### Step 1 Read the file from box folder to check if there's any open items. \n",
    "\n",
    "+ If there's open entries, then show the open entries and do some pre-validation before processing\n",
    "+ if there's no open entries, then STOP here. "
   ]
  },
  {
   "cell_type": "code",
   "execution_count": null,
   "metadata": {},
   "outputs": [],
   "source": [
    "client = box.get_box_client()\n",
    "xlsx_file = client.file(file_id).get().name\n",
    "print('File name for the data change request is:\\n\\t{}'.format(xlsx_file))\n",
    "xlsx_content = client.file(file_id).content()\n",
    "df = pd.read_excel(xlsx_content, sheet_name = 'Manual Action request', header =1 ).fillna('').applymap(cell_format)\n",
    "df = df.loc[df.RCNUM != '',:]\n",
    "df.RCNUM = df.RCNUM.str.upper()\n",
    "request_df = df.loc[(df.status.isin(['Not Started', ''])) & (df.action == action)]\n",
    "print('there are {} pending requests from Workday team'.format(request_df.shape[0]))\n",
    "request_df"
   ]
  },
  {
   "cell_type": "markdown",
   "metadata": {},
   "source": [
    "### Step 2 Validataion (only validate those ticket which are in status 'not started')\n",
    "\n",
    "we perform the validation before raise the jira task  \n",
    "+ step 2.1 CNUM validation\n",
    "+ step 2.2 Field name validation. This tool can only handle the data change request for E01 table. (if some fields are from other E table, please update the action into 'US' and handle the request purely manually)\n",
    "+ step 2.3 For update request, check if there's any duplicate request which are on the same cnum and with different new value. \n",
    "+ _(future improvement) step 2.4: value validation. Validate the value given in the sheet again the data type of the ODM field_. \n",
    "\n"
   ]
  },
  {
   "cell_type": "code",
   "execution_count": null,
   "metadata": {},
   "outputs": [],
   "source": [
    "# step 2.1 Cnum validation to check if the cnum could be found in ODM\n",
    "cnums_from_file = set(request_df.RCNUM.unique())\n",
    "cnum_list = ','.join([\"'{}'\".format(cnum.strip()) for cnum in cnums_from_file])\n",
    "if len(cnums_from_file) !=0: \n",
    "    sql = 'SELECT RCNUM, DUPDATE, CACTIVE FROM ODMPRD.{} WHERE RCNUM IN ({})  '.format(tbname, cnum_list)\n",
    "    #print(sql)\n",
    "    with odm_conn.odm_adhoc('prod') as odmprd_adhoc:\n",
    "        result = odmprd_adhoc(sql)\n",
    "    result_df = pd.DataFrame(result)\n",
    "    cnums_result = set(result_df.RCNUM.str.strip())\n",
    "    diff = cnums_from_file - cnums_result\n",
    "    if len(diff) != 0: \n",
    "        print('ERROR!!!!: The following cnum could not be found in ODM database, please request WD COE team to check:\\n {}'.format(cnums_from_file - cnums_result))\n",
    "    else: \n",
    "        print('CNUM VALIDATION PASSED!')\n",
    "        print('IMPACTED {} CNUMS :'.format(len(cnums_result)))\n",
    "        for cnum in cnums_result: \n",
    "            print('\\t{}'.format(cnum))\n",
    "\n",
    "else:\n",
    "    print('no pending requests in the spreadsheet!')"
   ]
  },
  {
   "cell_type": "code",
   "execution_count": null,
   "metadata": {},
   "outputs": [],
   "source": [
    "# step 2.2\n",
    "# for those df.action == 'U', we need all those field_to_be_updated fields to be the field name in E01 table\n",
    "if action == 'U':\n",
    "    fields = request_df.field_to_be_updated.str.strip().unique()\n",
    "    sql = \"select ctid, ccolname, ccolfmt, ccolname from odmprd.odmt_ddict_columns where substr(ctid,1,1) = 'E' \" # rz2 table \n",
    "    with odm_conn.odm_adhoc('prod') as odmprd_adhoc:\n",
    "        result_df = pd.DataFrame(odmprd_adhoc(sql))\n",
    "    e01_fields = result_df.loc[result_df.CTID == 'E01', 'CCOLNAME'].str.strip()\n",
    "    if (set(fields) <= set(e01_fields)):\n",
    "        print('FIELDS VALIDATION PASSED!\\n\\nThe following fields in E01 table will be updated')\n",
    "        for field in fields: \n",
    "            print('\\t {}'.format(field))\n",
    "\n",
    "    else:\n",
    "        print('''ERROR: FIELDS VALIDATION FAILED! \n",
    "        The following field(s) {} could not be found in E01 table.\n",
    "        \n",
    "        Note: If those fields are from table other than E01 table, please update the action \n",
    "        from U for US (Updata Subtype)\n",
    "        Those fields has to be handle purely manually and can not make use of this tool currently.\n",
    "        If workday COE team made a mistake on the fields name, please request the team to provide \n",
    "        a valid fields name'''.format(set(fields) - set(e01_fields)))\n",
    "else: \n",
    "    print('NO REQUEST FOR DATA UPDATE, THIS STEP SKIPPED!')"
   ]
  },
  {
   "cell_type": "code",
   "execution_count": null,
   "metadata": {},
   "outputs": [],
   "source": [
    "# step 2.3, get the cnum list and field list from the dataframe and do a simple varification\n",
    "if action == 'U':\n",
    "    update_df = request_df.loc[:, ['RCNUM', 'action', 'field_to_be_updated', 'old_value', 'new_value']].drop_duplicates()\n",
    "    temp_df = update_df.groupby(['RCNUM', 'field_to_be_updated']).size()\n",
    "    if any(temp_df >=2) :\n",
    "        temp_df = temp_df.loc[temp_df >=2]\n",
    "        print(temp_df)\n",
    "        print( 'ERROR: CONFLICT FOUND! Please contact with WD COE team to fix the issue...')\n",
    "    else:\n",
    "        print( '\\n\\nPASSED! NO CONFLICT FOUND...')\n",
    "\n",
    "update_df"
   ]
  },
  {
   "cell_type": "markdown",
   "metadata": {},
   "source": [
    "### Step 3:  Create the JIRA task to address data change request (Manual)\n",
    "\n",
    "if there's open ticket in box file, we will create the jira ticket to handle.   \n",
    "Make sure the jira task is under the following epic   \n",
    "https://jsw.ibm.com/browse/ODMODMR-91\n",
    "\n",
    "**Please create separate jira task for U and D respectively**\n"
   ]
  },
  {
   "cell_type": "markdown",
   "metadata": {},
   "source": [
    "### Step 4: Update the box file spreadsheet (Manual Step)  \n",
    "+ Put the jira task number in the spreadsheet  \n",
    "https://ibm.ent.box.com/file/731566115825\n",
    "+ Put your name in the spreadsheet\n",
    "+ Change the status from \"Not Started\" to \"In processing\""
   ]
  },
  {
   "cell_type": "markdown",
   "metadata": {},
   "source": [
    "### Step 5: Read the spreadsheet and generate the contents for jira task (for action = 'U' and status = 'in processing') "
   ]
  },
  {
   "cell_type": "code",
   "execution_count": null,
   "metadata": {},
   "outputs": [],
   "source": [
    "# step 5.1 \n",
    "# read all the ticket for update requests\n",
    "client = box.get_box_client()\n",
    "xlsx_file = client.file(file_id).get().name\n",
    "xlsx_content = client.file(file_id).content()\n",
    "df = pd.read_excel(xlsx_content, sheet_name = 'Manual Action request', header =1 ).fillna('').applymap(cell_format)\n",
    "df = df.loc[df.RCNUM != '',:]\n",
    "df.RCNUM = df.RCNUM.str.upper()\n",
    "request_df = df.loc[(df.status == 'In Processing') & (df.action == action)]\n",
    "print('there are {} pending {} requests from Workday team'.format(request_df.shape[0], action))\n",
    "# get the Category information and task number\n",
    "cat_df = pd.read_excel(xlsx_content, sheet_name = 1, header = 1, dtype = str).fillna('')\n",
    "jira_nbrs = request_df.RTC_task_number.unique()\n",
    "#rtc_nums = ['RA' + rtc_num.split('-')[1].zfill(5) for rtc_num in rtc_nums]\n",
    "#rtc_num = rtc_nums[0]\n",
    "#print('\\nthe jira number is {}'.format(rtc_num))\n",
    "request_df"
   ]
  },
  {
   "cell_type": "code",
   "execution_count": null,
   "metadata": {},
   "outputs": [],
   "source": [
    "print('there are {} jira ticket(s) for {} action'.format(len(jira_nbrs), action))\n",
    "for jira_nbr in jira_nbrs: \n",
    "    print('https://jsw.ibm.com/browse/{}'.format(jira_nbr))\n",
    "if len(jira_nbrs) >= 2: \n",
    "    while True: \n",
    "        print('please tell which ticket to be handled this time? ({})'.format(', '.join(jira_nbrs)))\n",
    "        jira_nbr = input()\n",
    "        if jira_nbr in jira_nbrs:\n",
    "            print('{} will be handled this time'.format(jira_nbr))\n",
    "            break\n",
    "        else: \n",
    "            print('{} is not a jira ticket number in status \"in-processing\", please try again'.format(jira_nbr))\n",
    "if len(jira_nbrs) == 1: \n",
    "    jira_nbr = jira_nbrs[0]\n",
    "\n",
    "rtc_num = 'RA' + jira_nbr.split('-')[1].zfill(5) \n",
    "request_df_current = request_df.loc[request_df.RTC_task_number == jira_nbr]\n",
    "request_df_current\n",
    "    "
   ]
  },
  {
   "cell_type": "markdown",
   "metadata": {},
   "source": [
    "#### STEP 5.2 Copy the contents into jira task\n",
    "also download the box spreadsheet and upload the spreadsheet to jira task \n"
   ]
  },
  {
   "cell_type": "code",
   "execution_count": null,
   "metadata": {},
   "outputs": [],
   "source": [
    "# step 5.2 \n",
    "# get the zen desk ticket number (get the information form the dataframe.)\n",
    "print( \"\\n\\n[ZEN desk tickets: ]\")\n",
    "print( '\\n'.join(request_df_current.COE_zendesk_number.unique()))\n",
    "\n",
    "# step 5.3\n",
    "# get the category number, then use the sheet 2 -- category description sheet to get the description of each category\n",
    "cat_dict = cat_df.loc[:, ['cat', 'description']].set_index('cat')['description'].to_dict()\n",
    "cat_list = request_df_current.issue_category.unique()\n",
    "cnum_list = list(request_df_current.RCNUM.unique())\n",
    "for cat in cat_list:\n",
    "    print(\"\\n[{}]: \\n {}\".format(cat, cat_dict[cat]))\n",
    "print( '\\n[List of cnum to be updated] (impacted {} cnums in total)'.format(len(cnum_list)))\n",
    "\n",
    "\n",
    "# step 5.4 , query the odm database for those cnums and print( out the query result)\n",
    "sql_step2 = ''\n",
    "for cnum in cnum_list:\n",
    "    print( cnum + ':')\n",
    "    condition = request_df_current.RCNUM == cnum\n",
    "    update_item = []\n",
    "    for index, row in request_df_current.loc[condition, ['field_to_be_updated', 'new_value']].iterrows():\n",
    "        print( '\\t Field Name: {:10s}New Value: {:20s}'.format(*row))\n",
    "        update_item.append(\"{} = '{}'\".format(*row))\n",
    "    sql_step2 += \"\\nUPDATE ODMPRD.ODMT_EMPLOYEE SET\\n   {} \\n WHERE RCNUM = '{}';\\n\".format(',\\n   '.join(update_item), cnum)"
   ]
  },
  {
   "cell_type": "markdown",
   "metadata": {},
   "source": [
    "### STEP 6 Prepare the SQL statement "
   ]
  },
  {
   "cell_type": "code",
   "execution_count": null,
   "metadata": {},
   "outputs": [],
   "source": [
    "# step 6 prepare the SQL statements\n",
    "distinct_fd_list = request_df_current.field_to_be_updated.unique()\n",
    "cnum_list_with_quote = [ \"'{}'\".format(cnum)    for cnum in cnum_list]\n",
    "sql_step1 = '''\n",
    "SELECT RCNUM,\n",
    "{}\n",
    "FROM ODMPRD.ODMT_EMPLOYEE\n",
    "WHERE RCNUM IN\n",
    "({}) ; '''.format(', \\n'.join(distinct_fd_list), ', \\n'.join(cnum_list_with_quote))\n",
    "\n",
    "# step 7 prepare the sql\n",
    "sql = '''\n",
    "-- step 1\n",
    " {0}\n",
    "\n",
    "-- step 2\n",
    " {1}\n",
    "\n",
    "-- step 3\n",
    " {0}\n",
    "\n",
    "-- step 4\n",
    " ROLLBACK;\n",
    "\n",
    "-- step 5\n",
    " {0}\n",
    " '''.format(sql_step1, sql_step2)\n",
    "\n",
    "print( sql)"
   ]
  },
  {
   "cell_type": "markdown",
   "metadata": {},
   "source": [
    "### STEP 7 prepare the JCL and write to local file system"
   ]
  },
  {
   "cell_type": "code",
   "execution_count": null,
   "metadata": {},
   "outputs": [],
   "source": [
    "result_file_name = '{0}.T{1}.RESULT.TXT'.format(user, rtc_num)\n",
    "print(f'result file name is : \\n{result_file_name}')"
   ]
  },
  {
   "cell_type": "code",
   "execution_count": null,
   "metadata": {},
   "outputs": [],
   "source": [
    "jcl_template = '''//ODMSUBRJ JOB ('QQY5ODM,39U28,SU45RMR,STF-08'),'ODM team support',             \n",
    "//            MSGCLASS=P,MSGLEVEL=(1,1),REGION=4096K,USER=PCODM,                \n",
    "//            NOTIFY={0}                                                    \n",
    "//JOBOUT OUTPUT DEFAULT=YES,JESDS=ALL,FORMS=ODM1                                \n",
    "//LIBS     JCLLIB  ORDER=(ISCTL.PRODPROC.ODM)                                   \n",
    "//INCLMEM INCLUDE MEMBER=ODMNA        level dependent JCL variables             \n",
    "//**********************************************************************        \n",
    "//* Name of member  : ODMSUBRJ                                                  \n",
    "//* Function        : This triggers the OPC Application called ODMP911          \n",
    "//*                   The job running is ODM911SJ, which starts the             \n",
    "//*                   required process to run, this ODMSUBRJ job                \n",
    "//*                                                                             \n",
    "//* ODM Team instructions                                                       \n",
    "//*                   Always copy the STEP you want to run just below           \n",
    "//*                   these instructions. Always leave the other steps          \n",
    "//*                   in and ensure 2 there is the // above AND that            \n",
    "//*                   there is NO JOB CARD                                      \n",
    "//*                   When \"You're done\" put the // below this comments         \n",
    "//*                                                                             \n",
    "//* Restart Info    : Fix the problem and restart at the step that              \n",
    "//*                   failed.                                                   \n",
    "//* Operators Instructions                                                      \n",
    "//*                 : NONE                                                      \n",
    "//**********************************************************************        \n",
    "//*---------------------------------------------------------------------        \n",
    "//* This job is for the RTC story {1}\n",
    "//*---------------------------------------------------------------------        \n",
    "//DELOLD   EXEC PGM=IEFBR14                                         \n",
    "//UNLE01P  DD DSN={2},\n",
    "//            DISP=(MOD,DELETE,DELETE),UNIT=SYSDA,SPACE=(1,(0),RLSE)\n",
    "//*---------------------------------------------------------------------        \n",
    "//STEP010  EXEC PGM=IKJEFT01                                                    \n",
    "//SYSTSIN   DD DSN=ODMLD.PRD.UTIL(DSNX),DISP=SHR                                \n",
    "//          DD DSN=ODMLD.PRD.UTIL(DSNTEP2),DISP=SHR                             \n",
    "//SYSTSPRT  DD SYSOUT=*                                                         \n",
    "//SYSOUT    DD SYSOUT=*                                                         \n",
    "//*SYSPRINT  DD SYSOUT=*                                                         \n",
    "//SYSPRINT  DD DSN={2},  \n",
    "//             DISP=(NEW,CATLG,CATLG),                 \n",
    "//             UNIT=(SYSDA,5),SPACE=(CYL,(5,5),RLSE)   \n",
    "//SYSABOUT  DD SYSOUT=*                                                         \n",
    "//SYSUDUMP  DD SYSOUT=*                                                         \n",
    "//SYSIN   DD *                            \n",
    "{3}\n",
    "/*\n",
    "//\n",
    "'''\n",
    "jcl = jcl_template.format(user, rtc_num, result_file_name, sql)\n",
    "print( jcl)\n",
    "\n",
    "jcl_file_name = 'J{}.jcl'.format(rtc_num)\n",
    "with open(jcl_file_name, 'w') as f:\n",
    "    f.write(jcl)\n",
    "print( 'the file {} is created in local..'.format(jcl_file_name))"
   ]
  },
  {
   "cell_type": "markdown",
   "metadata": {},
   "source": [
    "### STEP 8 Copy the JCL to ODMLD.PRD.RUN(ODMSUBRJ)\n",
    "  **Attention:**     \n",
    "  **__If your user id does not have the privilege to write to member ODMSUBRJ, then please ask Hans to manually upload the JCL or SQL statement__**"
   ]
  },
  {
   "cell_type": "code",
   "execution_count": null,
   "metadata": {},
   "outputs": [],
   "source": [
    "from common_func import odm_ftp\n",
    "with odm_ftp.odm_ftp_conn('put') as odm_put_file:\n",
    "    server_file_odmsubrj = 'ODMLD.PRD.RUN(ODMSUBRJ)'\n",
    "    odm_put_file(fm=jcl_file_name, to= server_file_odmsubrj)\n",
    "    print( 'file {} is uploade in server side...'.format(server_file_odmsubrj))\n"
   ]
  },
  {
   "cell_type": "markdown",
   "metadata": {},
   "source": [
    "### STEP 9 Trigger the ODM911 OPC application \n",
    "\n",
    "you can trigger the application by yourself or request OPC support team to excute"
   ]
  },
  {
   "cell_type": "markdown",
   "metadata": {},
   "source": [
    "### STEP 10 Download the dry run result from the MF server "
   ]
  },
  {
   "cell_type": "code",
   "execution_count": null,
   "metadata": {},
   "outputs": [],
   "source": [
    "stage = 'dry'\n",
    "with odm_ftp.odm_ftp_conn('get') as odm_get_file:\n",
    "    print(f'result file name is {result_file_name}')\n",
    "    file_name = result_file_name.split('.')\n",
    "    local_file_name = '_'.join([stage, *file_name]) + '.txt'\n",
    "    print('local file name is : {}'.format(local_file_name))\n",
    "    odm_get_file(fm=result_file_name, to= local_file_name )\n",
    "    print( 'file is downloaded to local machine, file name is {}. Please post to jira task as evidence'.format(local_file_name))\n",
    "\n",
    "text = open(local_file_name, 'r').read()\n",
    "print(text)"
   ]
  },
  {
   "cell_type": "markdown",
   "metadata": {},
   "source": [
    "### STEP 11 post the dry run result onto jira task, leave comments and request BPO for approval"
   ]
  },
  {
   "cell_type": "markdown",
   "metadata": {},
   "source": [
    "### STEP 12 Once approveal from BPO is received, please uploade the JCL again, and perform 'real' run\n",
    "+ Run from the step 5, 6, 7, 8 again. (to upload the sql/jcl to server) _If you want to dry run again, you can trigger OPC ODMP911 again_\n",
    "+ in PCOM, edit the member ODMLD.PRD.RUN(ODMSUBRJ), just comment out the step 4 in the SQL (put `-- ` in front of `ROLLBACK` statement\n",
    "+ Tigger the OPC ODMP911 again, and comfirm the job complete successfully\n"
   ]
  },
  {
   "cell_type": "markdown",
   "metadata": {},
   "source": [
    "### STEP 13, Download the result from server to you local machine and then post into jira task, and close the jira task\n"
   ]
  },
  {
   "cell_type": "code",
   "execution_count": null,
   "metadata": {},
   "outputs": [],
   "source": [
    "stage = 'real'\n",
    "with odm_ftp.odm_ftp_conn('get') as odm_get_file:\n",
    "    print(f'result file name is {result_file_name}')\n",
    "    file_name = result_file_name.split('.')\n",
    "    local_file_name = '_'.join([stage, *file_name]) + '.txt'\n",
    "    print('local file name is : {}'.format(local_file_name))\n",
    "    odm_get_file(fm=result_file_name, to= local_file_name )\n",
    "    print( 'file is downloaded to local machine, file name is {}. Please post to jira task as evidence'.format(local_file_name))\n",
    "text = open(local_file_name, 'r').read()\n",
    "print(text)"
   ]
  },
  {
   "cell_type": "markdown",
   "metadata": {},
   "source": [
    "### STEP 14, Go to BOX file, populate the close date and change the status for those ticket to be 'completed'"
   ]
  },
  {
   "cell_type": "code",
   "execution_count": null,
   "metadata": {},
   "outputs": [],
   "source": []
  }
 ],
 "metadata": {
  "kernelspec": {
   "display_name": "Python 3",
   "language": "python",
   "name": "python3"
  }
 },
 "nbformat": 4,
 "nbformat_minor": 4
}
