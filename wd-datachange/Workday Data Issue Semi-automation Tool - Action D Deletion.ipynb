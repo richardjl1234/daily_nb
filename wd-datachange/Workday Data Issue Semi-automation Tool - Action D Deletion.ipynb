{
 "cells": [
  {
   "cell_type": "markdown",
   "metadata": {},
   "source": [
    "## Workday Data Issue Semi-automation Tool (for action D only)\n",
    "\n",
    "This is a semi-automation tool which to facilate to performa the manual data deletion for workday data issues.   \n",
    "  \n",
    "**Attention:** \n",
    "1. This tool only handles the action type for `D`    \n",
    "1. `U` will be handled by another notebook   \n",
    "1. For action `US`, `DS` or `R`, it is out of scope. We will not use tool to handle them. \n",
    "\n",
    "\n",
    "**Steps**\n",
    "\n",
    "+ Step 1: **Check** if there's any open entries in the box folder. \n",
    "https://ibm.ent.box.com/file/731566115825\n",
    "\n",
    "+ Step 2: **Validation** for cnums and field names\n",
    "+ _Step 3: if there's open ticket in box file, we will **create the jira ticket** to handle._  \n",
    "https://jsw.ibm.com/browse/ODMODMR-91\n",
    "\n",
    "+ _Step 4: **Update the box file** spreadsheet with correct jira ticket number, and check the status from \"Not Started\" to \"in processing\"_\n",
    "\n",
    "+ Step 5: Read the spreadsheet and **generate the contents** for jira task (for action = 'D' and status = 'in processing')\n",
    "\n",
    "+ Step 6: Prepare **REK input** csv file\n",
    "\n",
    "+ Step 7: **upload the CSV** file to MF server \n",
    "\n",
    "+ _Step 8: Execute the **RDSU load process** to load the REK table_\n",
    "+ _Step 9: Execute the **CCQ change process** to perform the deletion_\n",
    "+ _Step 10: **Confirm** the result_\n",
    "+ _Step 11: Update the JIRA task and box spreadsheet to **close** the ticket_"
   ]
  },
  {
   "cell_type": "code",
   "execution_count": null,
   "metadata": {},
   "outputs": [],
   "source": [
    "# Parameters\n",
    "user = 'C943511'  # the userid in the JCL ODMSUBRJ, can be changed to Hans's ID e.g.\n",
    "user_email = 'IBMCN.JIANGLEI -'\n",
    "#user = 'NL62958'  # the userid in the JCL ODMSUBRJ, can be changed to Hans's ID e.g.\n",
    "file_id = '731566115825'  # the box file id which holds the request spreadsheet\n",
    "tbname = 'ODMT_EMPLOYEE'  # you can use the odm developer view if you don't have the access to E01\n",
    "#tbname = 'ODMH_EMPLOYEE'  # you can use the odm developer view if you don't have the access to E01\n",
    "action = 'D'\n",
    "file_id = '761862313652'  # for test purpose\n"
   ]
  },
  {
   "cell_type": "code",
   "execution_count": null,
   "metadata": {},
   "outputs": [],
   "source": [
    "import sys\n",
    "sys.path.append('/odm_modules')\n",
    "from common_func import odm_conn\n",
    "sys.path.append('/app')\n",
    "#from BOX import box_oauth as box\n",
    "from BOX import box_jwt as box\n",
    "import pandas as pd\n",
    "import numpy as np\n",
    "import datetime \n",
    "def cell_format(v):                                                             \n",
    "    return str(v) if isinstance(v, (int)) else str(int(v)) if isinstance(v,(float)) else str(v.date()) if isinstance(v, (datetime.datetime)) else v.decode('utf-8') if isinstance(v, (bytes)) else '' if v is None else str(v).strip()                 "
   ]
  },
  {
   "cell_type": "markdown",
   "metadata": {},
   "source": [
    "### Step 1 Read the file from box folder to check if there's any open items. \n",
    "\n",
    "+ If there's open entries, then show the open entries and do some pre-validation before processing\n",
    "+ if there's no open entries, then STOP here. "
   ]
  },
  {
   "cell_type": "code",
   "execution_count": null,
   "metadata": {
    "scrolled": false
   },
   "outputs": [],
   "source": [
    "client = box.get_box_client()\n",
    "xlsx_file = client.file(file_id).get().name\n",
    "print('File name for the data change request is:\\n\\t{}'.format(xlsx_file))\n",
    "xlsx_content = client.file(file_id).content()\n",
    "df = pd.read_excel(xlsx_content, sheet_name = 'Manual Action request', header =1 ).fillna('').applymap(cell_format)\n",
    "df = df.loc[df.RCNUM != '',:]\n",
    "request_df = df.loc[(df.status.isin(['Not Started', ''])) & (df.action == action)]\n",
    "print('there are {} pending requests from Workday team'.format(request_df.shape[0]))\n",
    "request_df"
   ]
  },
  {
   "cell_type": "markdown",
   "metadata": {},
   "source": [
    "### Step 2 Validataion (only validate those ticket which are in status 'not started')\n",
    "\n",
    "we perform the validation before raise the jira task  \n",
    "+ step 2.1 CNUM validation\n"
   ]
  },
  {
   "cell_type": "code",
   "execution_count": null,
   "metadata": {},
   "outputs": [],
   "source": [
    "# step 2.1 Cnum validation to check if the cnum could be found in ODM\n",
    "cnums_from_file = set(request_df.RCNUM.unique())\n",
    "cnum_list = ','.join([\"'{}'\".format(cnum.strip()) for cnum in cnums_from_file])\n",
    "if len(cnums_from_file) !=0: \n",
    "    sql = 'SELECT RCNUM, DUPDATE, CACTIVE FROM ODMPRD.{} WHERE RCNUM IN ({})  '.format(tbname, cnum_list)\n",
    "    #print(sql)\n",
    "    with odm_conn.odm_adhoc('prod') as odmprd_adhoc:\n",
    "        result = odmprd_adhoc(sql)\n",
    "    result_df = pd.DataFrame(result)\n",
    "    cnums_result = set(result_df.RCNUM.str.strip())\n",
    "    diff = cnums_from_file - cnums_result\n",
    "    if len(diff) != 0: \n",
    "        print('ERROR!!!!: The following cnum could not be found in ODM database, please request WD COE team to check:\\n {}'.format(cnums_from_file - cnums_result))\n",
    "    else: \n",
    "        print('CNUM VALIDATION PASSED!')\n",
    "        print('IMPACTED {} CNUMS :'.format(len(cnums_result)))\n",
    "        for cnum in cnums_result: \n",
    "            print('\\t{}'.format(cnum))\n",
    "\n",
    "else:\n",
    "    print('no pending requests in the spreadsheet!')"
   ]
  },
  {
   "cell_type": "markdown",
   "metadata": {},
   "source": [
    "### _Step 3:  Create the JIRA task to address data change request_\n",
    "\n",
    "if there're open tickets in box file, we will create the jira ticket to handle.   \n",
    "Make sure the jira task is under the following epic   \n",
    "https://jsw.ibm.com/browse/ODMODMR-91\n",
    "\n",
    "**Please create separate jira task for U and D respectively**\n"
   ]
  },
  {
   "cell_type": "markdown",
   "metadata": {},
   "source": [
    "###  _Step 4: Update the box file spreadsheet_\n",
    "+ Put the jira task number in the spreadsheet  \n",
    "https://ibm.ent.box.com/file/731566115825\n",
    "+ Put your name in the spreadsheet\n",
    "+ Change the status from \"Not Started\" to \"In processing\""
   ]
  },
  {
   "cell_type": "markdown",
   "metadata": {},
   "source": [
    "### Step 5: Read the spreadsheet and generate the contents for jira task (for action = 'D' and status = 'in processing') "
   ]
  },
  {
   "cell_type": "code",
   "execution_count": null,
   "metadata": {},
   "outputs": [],
   "source": [
    "# step 5.1 \n",
    "# read all the ticket for deletion requests\n",
    "client = box.get_box_client()\n",
    "xlsx_file = client.file(file_id).get().name\n",
    "xlsx_content = client.file(file_id).content()\n",
    "df = pd.read_excel(xlsx_content, sheet_name = 'Manual Action request', header =1 ).fillna('').applymap(cell_format)\n",
    "df = df.loc[df.RCNUM != '',:]\n",
    "request_df = df.loc[(df.status == 'In Processing') & (df.action == action)]\n",
    "print('there are {} pending {} requests from Workday team'.format(request_df.shape[0], action))\n",
    "# get the Category information and task number\n",
    "cat_df = pd.read_excel(xlsx_content, sheet_name = 1, header = 1, dtype = str).fillna('')\n",
    "jira_nbrs = request_df.RTC_task_number.unique()\n",
    "#rtc_nums = ['RA' + rtc_num.split('-')[1].zfill(5) for rtc_num in rtc_nums]\n",
    "#rtc_num = rtc_nums[0]\n",
    "#print('\\nthe jira number is {}'.format(rtc_num))\n",
    "request_df"
   ]
  },
  {
   "cell_type": "code",
   "execution_count": null,
   "metadata": {},
   "outputs": [],
   "source": [
    "print('there are {} jira ticket(s) for {} action'.format(len(jira_nbrs), action))\n",
    "for jira_nbr in jira_nbrs: \n",
    "    print('https://jsw.ibm.com/browse/{}'.format(jira_nbr))\n",
    "if len(jira_nbrs) >= 2: \n",
    "    while True: \n",
    "        print('please tell which ticket to be handled this time? ({})'.format(', '.join(jira_nbrs)))\n",
    "        jira_nbr = input()\n",
    "        if jira_nbr in jira_nbrs:\n",
    "            print('{} will be handled this time'.format(jira_nbr))\n",
    "            break\n",
    "        else: \n",
    "            print('{} is not a jira ticket number in status \"in-processing\", please try again'.format(jira_nbr))\n",
    "if len(jira_nbrs) == 1: \n",
    "    jira_nbr = jira_nbrs[0]\n",
    "\n",
    "rtc_num = 'RA' + jira_nbr.split('-')[1].zfill(5) \n",
    "request_df_current = request_df.loc[request_df.RTC_task_number == jira_nbr]\n",
    "request_df_current\n",
    "    "
   ]
  },
  {
   "cell_type": "markdown",
   "metadata": {},
   "source": [
    "#### STEP 5.2 Copy the contents into jira task\n",
    "also download the box spreadsheet and upload the spreadsheet to jira task\n",
    "\n",
    "\n",
    "#### STEP 5.3 Update the JIRA task and request for BPO approval before proceding to step 6\n"
   ]
  },
  {
   "cell_type": "code",
   "execution_count": null,
   "metadata": {},
   "outputs": [],
   "source": [
    "content_template = '''\n",
    "[Zendesk tickets]\n",
    "{0}\n",
    "\n",
    "[Issue Categories]\n",
    "{1}\n",
    "\n",
    "[CNUM to be deleted]\n",
    "{2}\n",
    "\n",
    "[Query before deletion] ({3} CNUMs in total)\n",
    "{4}\n",
    "\n",
    "\n",
    "\n",
    "&nbsp;\n",
    "\n",
    "{5}\n",
    "{6}\n",
    "&nbsp;\n",
    "\n",
    "&nbsp;\n",
    "\n",
    "\n",
    "     {7} record(s) selected. \n",
    "\n",
    "\n",
    "---------------------------------------\n",
    "We are going to existing REK process to perform the deletion, \n",
    "the deleted data will be backuped in 2 datasets. No dry run is needed.. \n",
    "'''"
   ]
  },
  {
   "cell_type": "code",
   "execution_count": null,
   "metadata": {},
   "outputs": [],
   "source": [
    "#0\n",
    "zen_list = '/n'.join(list(request_df_current.COE_zendesk_number.unique())) \n",
    "cat_dict = cat_df.loc[:, ['cat', 'description']].set_index('cat')['description'].to_dict()\n",
    "cat_list = request_df_current.issue_category.unique()\n",
    "# 1\n",
    "cat_list_desc = '\\n'.join([cat + ':\\n' + cat_dict.get(cat, '')  for cat in cat_list])\n",
    "#2\n",
    "cnum_list = '\\n'.join(list(request_df_current.RCNUM.unique())) \n",
    "#3\n",
    "\n",
    "cnum_cnt = len(request_df_current.RCNUM.unique())  \n",
    "#4\n",
    "sql_before = '''select RCNUM\n",
    ", CACTIVE\n",
    ", DUPDATE\n",
    ", CCOUNTRY\n",
    ", CCOUNTRQ\n",
    ", RSERNUM \n",
    "FROM ODMPRD.{} \n",
    "WHERE RCNUM IN ({})'''.format(tbname, ',\\n'.join([\"'{}'\".format(cnum) for cnum in list(request_df_current.RCNUM.unique())])) \n",
    "with odm_conn.odm_adhoc('prod') as odmprd_adhoc: \n",
    "    result = odmprd_adhoc(sql_before)\n",
    "    result_df = pd.DataFrame(result)\n",
    "    #print(request_df)\n",
    "    result_df = result_df.applymap(cell_format)\n",
    "\n",
    "#5\n",
    "col_list = ''.join(['|'+col for col in result_df.columns])\n",
    "\n",
    "#6 \n",
    "value_list = '\\n'.join([''.join(['|'+item for item in row]) for row in result_df.values])\n",
    "# 7\n",
    "value_cnt = result_df.shape[0]\n",
    "content = content_template.format(zen_list, cat_list_desc, cnum_list, cnum_cnt, sql_before, col_list, value_list, value_cnt)\n",
    "print(content)\n"
   ]
  },
  {
   "cell_type": "markdown",
   "metadata": {},
   "source": [
    "-------------------------------------------------------\n",
    "### STEP 6 Prepare REK input csv file"
   ]
  },
  {
   "cell_type": "code",
   "execution_count": null,
   "metadata": {},
   "outputs": [],
   "source": [
    "# step 6.1 unload the current REK table\n",
    "cols_list = 'CMODEL\tCCOUNTRY\tCCOUNTRQ\tRSERNUM\tNCOUNTRY\tNCOUNTRQ\tNSERNUM\tRRTCTASK\tFACTION\tCLANGUAG\tFDISCONT\tQSORTSEQ\tTCOUNTRY'\n",
    "cols_list = cols_list.split()\n",
    "with odm_conn.odm_adhoc('prod') as odmprd_adhoc: \n",
    "    result = odmprd_adhoc('select  {} from odmprd.odmt_emp_keychange order by QSORTSEQ'.format(','.join(cols_list)))\n",
    "    df_rek = pd.DataFrame(result)\n",
    "df_rek['C'] = 'R'\n",
    "df_rek = df_rek.reindex(columns = ['C', *cols_list])\n",
    "next_seq = int(df_rek.QSORTSEQ.max()) + 1\n",
    "df_rek"
   ]
  },
  {
   "cell_type": "code",
   "execution_count": null,
   "metadata": {},
   "outputs": [],
   "source": [
    "# step 6.2 add the new entries for deletion request\n",
    "ser = {}\n",
    "for idx, row in result_df.iterrows():\n",
    "    cnum = row.RCNUM\n",
    "    ser['C'] = 'R'\n",
    "    ser['CMODEL'] = 'IBM'\n",
    "    ser['CCOUNTRY'] = row.CCOUNTRY\n",
    "    ser['CCOUNTRQ'] = row.CCOUNTRQ\n",
    "    ser['RSERNUM'] = row.RSERNUM\n",
    "    ser['RRTCTASK'] = jira_nbr.split('-')[-1]\n",
    "    ser['FACTION'] = 'D'\n",
    "    ser['QSORTSEQ'] = str(next_seq)\n",
    "    ser['FDISCONT'] = ''   #######\n",
    "    ser['TCOUNTRY'] = 'zen desk ticket: {}'.format(''.join(request_df_current.loc[request_df_current.RCNUM == cnum].COE_zendesk_number))\n",
    "    df_rek = df_rek.append(ser, ignore_index = True).fillna('')\n",
    "df_rek = df_rek.applymap(cell_format)"
   ]
  },
  {
   "cell_type": "code",
   "execution_count": null,
   "metadata": {},
   "outputs": [],
   "source": [
    "# step 6.3 write csv file and add the first line\n",
    "now = str(datetime.datetime.today().date())\n",
    "df_rek.to_csv('temp.csv', index = False)\n",
    "rek_filename = 'REK_{}.csv'.format(''.join(now.split('-')))\n",
    "with open(rek_filename, 'w') as fw: \n",
    "    fw.write('T,REK - Employee Primary key change (ODMT_EMP_KEYCHANGE),,,,,,,,,,,,\\n')\n",
    "    fw.write(open('temp.csv', 'r').read())\n",
    "print('{} \\nfile is created in local machine which is ready to be uploaded to MF server'.format(rek_filename))"
   ]
  },
  {
   "cell_type": "markdown",
   "metadata": {},
   "source": [
    "### STEP 7 upload the CSV file to MF server"
   ]
  },
  {
   "cell_type": "code",
   "execution_count": null,
   "metadata": {},
   "outputs": [],
   "source": [
    "# step 7 upload the csv file to stfmvs1 server\n",
    "from common_func import odm_ftp\n",
    "with odm_ftp.odm_ftp_conn('put') as odm_put_file:\n",
    "    server_file = 'ODMAP.RES.ZZ.RDMCSV.IN.EM'\n",
    "    odm_put_file(fm=rek_filename, to= server_file)\n",
    "    print( 'file {} is uploade in server side...'.format(server_file))"
   ]
  },
  {
   "cell_type": "markdown",
   "metadata": {},
   "source": [
    "+++++++\n",
    "### STEP 8 _Execute the RDSU load process to load the REK table_\n",
    "\n",
    "### STEP 9 _Execute the CCQ change process to perform the deletion_\n",
    "\n",
    "### STEP 10 _Confirm the result_\n",
    "\n",
    "\n",
    "### STEP 11 _Update the JIRA task and box spreadsheet to close the ticket_\n",
    "\n"
   ]
  },
  {
   "cell_type": "raw",
   "metadata": {
    "scrolled": false
   },
   "source": [
    "# step 8, RDSU load process\n",
    "jcl_template = '''//ODMSUBRJ JOB ('QQY5ODM,39U28,SU45RMR,STF-08'),'ODM team support',             \n",
    "//            MSGCLASS=P,MSGLEVEL=(1,1),REGION=4096K,USER=PCODM,                \n",
    "//            NOTIFY={user}                                                    \n",
    "//JOBOUT OUTPUT DEFAULT=YES,JESDS=ALL,FORMS=ODM1                                \n",
    "//LIBS     JCLLIB  ORDER=(ISCTL.PRODPROC.ODM)                                   \n",
    "//INCLMEM INCLUDE MEMBER=ODMNA        level dependent JCL variables             \n",
    "//**********************************************************************        \n",
    "//* Name of member  : ODMSUBRJ                                                  \n",
    "//* Function        : This triggers the OPC Application called ODMP911          \n",
    "//*                   The job running is ODM911SJ, which starts the             \n",
    "//*                   required process to run, this ODMSUBRJ job                \n",
    "//*                                                                             \n",
    "//* ODM Team instructions                                                       \n",
    "//*                   Always copy the STEP you want to run just below           \n",
    "//*                   these instructions. Always leave the other steps          \n",
    "//*                   in and ensure 2 there is the // above AND that            \n",
    "//*                   there is NO JOB CARD                                      \n",
    "//*                   When \"You're done\" put the // below this comments         \n",
    "//*                                                                             \n",
    "//* Restart Info    : Fix the problem and restart at the step that              \n",
    "//*                   failed.                                                   \n",
    "//* Operators Instructions                                                      \n",
    "//*                 : NONE                                                      \n",
    "//**********************************************************************        \n",
    "//COPY     EXEC PGM=PIPE,                                             \n",
    "//         PARM='< DDNAME=IN | > DDNAME=INSAVED COERCE'               \n",
    "//SYSPRINT DD SYSOUT=*                                                \n",
    "//IN       DD DSN=&HLQDSET..RES.ZZ.RDMCSV.IN.EM,DISP=SHR              \n",
    "//INSAVED  DD DSN=&HLQDSET..RES.ZZ.RDMCSV.INSAVED.EM(+1),             \n",
    "//            DISP=(NEW,CATLG,DELETE),UNIT=SYSDA,                     \n",
    "//            SPACE=(CYL,(900,900),RLSE),DCB=(RECFM=VB,LRECL=10004)   \n",
    "//*---------------------------------------------------------------------        \n",
    "//*  Convert spreadsheet to RDM batch file                                      \n",
    "//*---------------------------------------------------------------------        \n",
    "//CONVERT  EXEC PGM=IKJEFT1B,                                                   \n",
    "//         PARM='ODMRDM2 EM',REGION=0M,COND=(4,LT)                              \n",
    "//STEPLIB  DD DSN=SYS1.SEZALOAD,DISP=SHR                                        \n",
    "//         DD DSN=SYS1.BPIPE.LINKLIB,DISP=SHR                                   \n",
    "//         DD DSN=SYS1.REXXSQL.LINKLIB,DISP=SHR                                 \n",
    "//         DD DSN=DB2.DP2H.DB2.RUNLIB.LOAD,DISP=SHR                             \n",
    "//         DD DSN=DB2.DP2H.DB2.SDSNLOAD,DISP=SHR                                \n",
    "//SYSEXEC  DD DSN=ISCTL.PRODCLST.ODM,DISP=SHR                                   \n",
    "//ODMRDM   DD DSN=&HLQDSET..RES.UTILLONG,DISP=SHR                               \n",
    "//DISTLIST DD *\n",
    "{user_email}\n",
    "/*\n",
    "//SUBJECT  DD DSN=&&SUBJECT,DISP=(,PASS),UNIT=SYSDA,                            \n",
    "//            SPACE=(TRK,(1,1),RLSE),                                           \n",
    "//            DCB=(RECFM=FB,LRECL=80,BLKSIZE=0)                                 \n",
    "//JCL      DD DSN=OPC.PRODJCL.HR(ODM##Y0E),DISP=SHR                             \n",
    "//ENVIRON  DD DSN=ISCTL.PRODCNTL.ODM(ODPARAT),DISP=SHR                          \n",
    "//REFDATA  DD DSN=&HLQDSET..RES.ZZ.RDMCSV.OUTEM,DISP=SHR                        \n",
    "//SYSTSPRT DD SYSOUT=*                                                          \n",
    "//SYSTSIN  DD DUMMY                                                             \n",
    "//RDMCSV   DD DSN=&HLQDSET..RES.ZZ.RDMCSV.IN.EM,DISP=SHR                        \n",
    "//REPORT   DD DSN=&HLQDSET..RES.ZZ.RDMCSV.REPORT.EM(+1),                        \n",
    "//            DISP=(NEW,CATLG,CATLG),                                           \n",
    "//            UNIT=SYSDA,                                                       \n",
    "//            SPACE=(TRK,(900,750),RLSE),                                        \n",
    "//            DCB=(RECFM=VB,LRECL=150)                          \n",
    "//                                                      \n",
    "'''\n",
    "jcl = jcl_template.format(user=user, user_email = user_email)\n",
    "jcl_file_name = 'J{}.jcl'.format(rtc_num)\n",
    "with open(jcl_file_name, 'w') as f:\n",
    "    f.write(jcl)\n",
    "print( 'the file {} is created in local..'.format(jcl_file_name))\n",
    "\n",
    "from common_func import odm_ftp\n",
    "with odm_ftp.odm_ftp_conn('put') as odm_put_file:\n",
    "    server_file_odmsubrj = 'ODMLD.PRD.RUN(ODMSUBRJ)'\n",
    "    odm_put_file(fm=jcl_file_name, to= server_file_odmsubrj)\n",
    "    print( 'file {} is uploade in server side...'.format(server_file_odmsubrj))\n"
   ]
  },
  {
   "cell_type": "raw",
   "metadata": {},
   "source": [
    "# Get the lastest ODMAP.**.@@ GDG file\n",
    "# step 8 confirm the new entri(es) have been added in REK table\n",
    "local_file = 'REK_LOAD_RESULT_{}.txt'.format(''.join(str(now).split('-')))\n",
    "print(local_file)\n",
    "with odm_ftp.odm_ftp_conn('get') as odm_get_file:\n",
    "    server_file = 'ODMAP.RES.@@.ODM@@FE2.REPORT(0)'\n",
    "    odm_get_file(fm=server_file, to= local_file)\n",
    "    print( 'file {} is uploade in server side...'.format(local_file))\n",
    "print(open(local_file, 'r').read())"
   ]
  },
  {
   "cell_type": "code",
   "execution_count": null,
   "metadata": {},
   "outputs": [],
   "source": []
  }
 ],
 "metadata": {
  "kernelspec": {
   "display_name": "Python 3",
   "language": "python",
   "name": "python3"
  },
  "language_info": {
   "codemirror_mode": {
    "name": "ipython",
    "version": 3
   },
   "file_extension": ".py",
   "mimetype": "text/x-python",
   "name": "python",
   "nbconvert_exporter": "python",
   "pygments_lexer": "ipython3",
   "version": "3.6.9"
  }
 },
 "nbformat": 4,
 "nbformat_minor": 4
}
