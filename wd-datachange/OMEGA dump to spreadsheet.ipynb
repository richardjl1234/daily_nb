{
 "cells": [
  {
   "cell_type": "code",
   "execution_count": null,
   "metadata": {},
   "outputs": [],
   "source": [
    "import datetime\n",
    "def cell_format(v):\n",
    "    return str(v) if isinstance(v, (int)) else str(int(v)) if isinstance(v,float) else str(v) if isinstance(v, datetime.date) else v.decode('utf-8') if isinstance(v, bytes) else '' if v is None else v.strip()\n",
    "import sys\n",
    "sys.path.append('/odm_modules')\n",
    "from common_func import odm_conn\n",
    "from common_func import odm_dict\n",
    "import pandas as pd\n",
    "from common_func import cloudant_conn as cc\n",
    "import logging                                                                  \n",
    "import os  \n",
    "#sys.path.append('/app')\n",
    "#from BOX import box_oauth as box \n",
    "pd.options.display.max_rows = 1000\n",
    "pd.options.display.max_columns = None\n",
    "pd.options.display.max_colwidth = 0\n",
    "odm_dict.refresh()"
   ]
  },
  {
   "cell_type": "code",
   "execution_count": null,
   "metadata": {},
   "outputs": [],
   "source": [
    "df_tid = odm_dict.odm_tid_df_from_csv()\n",
    "df_col = odm_dict.odm_col_df_from_csv()\n",
    "df_col = df_col.loc[df_col.NAME !=''] # remove those line which could not be found in systable\n",
    "df_tid = df_tid.loc[df_tid.NAME !='']\n",
    "tid_dict = df_tid.set_index('CTID')['CTABNAME'].to_dict()\n",
    "tid_desc_dict = df_tid.set_index('CTID')['TTID'].to_dict()\n",
    "df_col['tid_col'] = df_col.CTID + '.' + df_col.CCOLNAME\n",
    "data_class_dict = df_col.set_index('tid_col').CCLASS.to_dict()\n",
    "col_dict = df_col.set_index('tid_col').TCOLNAME.to_dict()"
   ]
  },
  {
   "cell_type": "markdown",
   "metadata": {},
   "source": [
    "## Get the dump for a given OMEGA feeder code"
   ]
  },
  {
   "cell_type": "code",
   "execution_count": null,
   "metadata": {},
   "outputs": [],
   "source": [
    "fdr = 'HI7'"
   ]
  },
  {
   "cell_type": "code",
   "execution_count": null,
   "metadata": {},
   "outputs": [],
   "source": [
    "tbs = df_tid.loc[df_tid.CTID.str.startswith('G0'), ['CTID', 'CTABNAME']].set_index('CTID')['CTABNAME'].to_dict()"
   ]
  },
  {
   "cell_type": "code",
   "execution_count": null,
   "metadata": {},
   "outputs": [],
   "source": [
    "def get_result(tid):\n",
    "    tbname = tbs[tid]\n",
    "    sql = f'''select {tid}.* from ODMPRD.{tbname} {tid}, odmprd.odmt_ome_employee A \n",
    "    WHERE \n",
    "    {tid}.CCOUNTRY = A.CCOUNTRY \n",
    "    AND {tid}.CCOUNTRQ = A.CCOUNTRQ\n",
    "    AND {tid}.RSERNUM = A.RSERNUM\n",
    "    AND A.CFDRSRC = '{fdr}'  '''\n",
    "    print(sql)\n",
    "    with odm_conn.odm_adhoc('prod') as odmprd_adhoc:\n",
    "        result = odmprd_adhoc(sql)\n",
    "    df = pd.DataFrame(result).applymap(cell_format)\n",
    "    df.to_excel(f'/result/result_{tid}_{fdr}.xlsx', index = False)\n",
    "    return df"
   ]
  },
  {
   "cell_type": "code",
   "execution_count": null,
   "metadata": {
    "scrolled": false
   },
   "outputs": [],
   "source": [
    "dfs = {tid: get_result(tid) for tid in tbs.keys()}"
   ]
  },
  {
   "cell_type": "code",
   "execution_count": null,
   "metadata": {},
   "outputs": [],
   "source": []
  },
  {
   "cell_type": "code",
   "execution_count": null,
   "metadata": {},
   "outputs": [],
   "source": []
  }
 ],
 "metadata": {
  "kernelspec": {
   "display_name": "Python 3",
   "language": "python",
   "name": "python3"
  }
 },
 "nbformat": 4,
 "nbformat_minor": 2
}
