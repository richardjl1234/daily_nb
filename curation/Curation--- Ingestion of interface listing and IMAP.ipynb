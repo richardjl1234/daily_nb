{
 "cells": [
  {
   "cell_type": "markdown",
   "metadata": {},
   "source": [
    "## This notebook is to ingest the interface listing & IMAP into cloudant database"
   ]
  },
  {
   "cell_type": "markdown",
   "metadata": {},
   "source": [
    "**Remember:**   \n",
    "the mapping /result in docker image is mapped to local folder ~/Documents/GitHub/jupyter/result  \n",
    "the mapping /input in docker image is mapped to local folder ~/Documents/GitHub/jupyter/input\n",
    "\n",
    "\n",
    "link to the cloudanta database is here:   \n",
    "https://d5e8ab56-62ce-4345-b1f2-33e670691507-bluemix.cloudant.com/dashboard.html\n",
    "\n",
    "The following code is to ingest the interface listing file into cloudanta database\n",
    "the interface listing has to be put in the folder /Documents/GitHub/jupyter/input  \n",
    "\n",
    "The original location of the interface listing is in the below link:  \n",
    "https://apps.na.collabserv.com/communities/service/html/communityview?communityUuid=84d3cd10-4160-48e1-abb6-f65af679ee28#fullpageWidgetId=Wabd63ea0f599_4dc3_aed5_9ffce68576e0&file=0db2badd-03b6-456b-b3c5-ab06593a55ca"
   ]
  },
  {
   "cell_type": "code",
   "execution_count": null,
   "metadata": {},
   "outputs": [],
   "source": [
    "import sys\n",
    "sys.path.append('/odm_modules')\n",
    "from common_func import cloudant_conn\n",
    "import pandas as pd\n",
    "pd.options.display.max_rows = 5000\n"
   ]
  },
  {
   "cell_type": "code",
   "execution_count": null,
   "metadata": {},
   "outputs": [],
   "source": [
    "!ls /input"
   ]
  },
  {
   "cell_type": "markdown",
   "metadata": {},
   "source": [
    "### set up the environment in the beginning of notebook"
   ]
  },
  {
   "cell_type": "code",
   "execution_count": null,
   "metadata": {},
   "outputs": [],
   "source": [
    "#environ_suffix = '_test'\n",
    "environ_suffix = ''"
   ]
  },
  {
   "cell_type": "code",
   "execution_count": null,
   "metadata": {},
   "outputs": [],
   "source": [
    "cloudant_db_name = 'interface{}'.format(environ_suffix) # the cloudant database name to be ingested\n",
    "print(cloudant_db_name)\n",
    "filename = 'interface.xlsx'  # the file name in the folder input\n",
    "df = pd.read_excel('/input/{}'.format(filename), sheet_name = 'active_interfaces')\n",
    "res  = cloudant_conn.df_2_cloudant(df, cloudant_db_name , mode = 'REPLACE')\n",
    "res"
   ]
  },
  {
   "cell_type": "markdown",
   "metadata": {},
   "source": [
    "## Ingest EAL information for interfaces based on IMAP  \n",
    "\n",
    "The link to the EAL website is: \n",
    "https://ibm.decisionfocus.com/?originalUrl=%2Fworkspace%2F6473b7e703d34e664ad00131ee002e68%2Fdashboard%2F6473b7e703d34e664ad00131ee002e68%2F6473b7e703d34e664ad00131ee00b0ad  \n",
    "\n",
    "Go to the website and download the report, select **Applications-> EAL reports -> My report** \n",
    "then choose the data items we need in our application. \n",
    "\n",
    " `mv ~/Downloads/My\\ Report.xlsx ~/Documents/GitHub/jupyter/input/`\n",
    " "
   ]
  },
  {
   "cell_type": "code",
   "execution_count": null,
   "metadata": {},
   "outputs": [],
   "source": [
    "cloudant_db_name = 'imap{}'.format(environ_suffix) # the cloudant database name to be ingested\n",
    "print(cloudant_db_name)\n",
    "filename = 'My Report.xlsx'  # the file name in the folder input\n",
    "df = pd.read_excel('/input/{}'.format(filename)).fillna('')\n",
    "df = df.loc[df.State.isin(['In Production', 'In Development']) ]\n",
    "#df = df.loc[df['IMAP Number'] != '-']\n",
    "print(df.shape)\n",
    "res  = cloudant_conn.df_2_cloudant(df, cloudant_db_name , mode = 'REPLACE', keys= ['IMAP Number'])\n",
    "res"
   ]
  },
  {
   "cell_type": "code",
   "execution_count": null,
   "metadata": {},
   "outputs": [],
   "source": [
    "df = df.loc[~df['IMAP Number'].isin( ['-', ''])]\n",
    "df.shape"
   ]
  },
  {
   "cell_type": "code",
   "execution_count": null,
   "metadata": {},
   "outputs": [],
   "source": [
    "cloudant_conn.cloudant_client.connect()"
   ]
  },
  {
   "cell_type": "code",
   "execution_count": null,
   "metadata": {},
   "outputs": [],
   "source": [
    "my_database = cloudant_conn.cloudant_client['imap{}'.format(environ_suffix)]"
   ]
  },
  {
   "cell_type": "code",
   "execution_count": null,
   "metadata": {},
   "outputs": [],
   "source": [
    "cloudant_conn.cloudant_client.get('interface{}'.format(environ_suffix), False)"
   ]
  },
  {
   "cell_type": "code",
   "execution_count": null,
   "metadata": {},
   "outputs": [],
   "source": [
    "df_temp = list(my_database)"
   ]
  },
  {
   "cell_type": "code",
   "execution_count": null,
   "metadata": {},
   "outputs": [],
   "source": [
    "df_temp = pd.DataFrame(df_temp)"
   ]
  },
  {
   "cell_type": "code",
   "execution_count": null,
   "metadata": {},
   "outputs": [],
   "source": [
    "df_temp[df_temp['Short Name'].str.contains('HRIW')].T"
   ]
  },
  {
   "cell_type": "code",
   "execution_count": null,
   "metadata": {},
   "outputs": [],
   "source": [
    "df_temp[['a', 'b']] = df_temp._id.str.split('-', n = 1, expand = True)\n",
    "df_temp.b.apply(lambda x: len(x)).value_counts()\n",
    "\n",
    "#df_temp['a'] = new[0]\n",
    "#df_temp['b'] = new[1]"
   ]
  },
  {
   "cell_type": "code",
   "execution_count": null,
   "metadata": {},
   "outputs": [],
   "source": [
    "df_temp.loc[df_temp._id.str.contains('-')]._id"
   ]
  },
  {
   "cell_type": "code",
   "execution_count": null,
   "metadata": {},
   "outputs": [],
   "source": [
    "import re"
   ]
  },
  {
   "cell_type": "code",
   "execution_count": null,
   "metadata": {},
   "outputs": [],
   "source": [
    "list(map(lambda x : print('\"{}\",'.format(x) ), df_temp.columns))"
   ]
  },
  {
   "cell_type": "code",
   "execution_count": null,
   "metadata": {},
   "outputs": [],
   "source": []
  }
 ],
 "metadata": {
  "kernelspec": {
   "display_name": "Python 3",
   "language": "python",
   "name": "python3"
  },
  "language_info": {
   "codemirror_mode": {
    "name": "ipython",
    "version": 3
   },
   "file_extension": ".py",
   "mimetype": "text/x-python",
   "name": "python",
   "nbconvert_exporter": "python",
   "pygments_lexer": "ipython3",
   "version": "3.8.2"
  }
 },
 "nbformat": 4,
 "nbformat_minor": 2
}
