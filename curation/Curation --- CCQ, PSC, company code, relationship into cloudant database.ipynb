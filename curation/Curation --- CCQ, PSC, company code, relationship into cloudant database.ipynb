{
 "cells": [
  {
   "cell_type": "markdown",
   "metadata": {},
   "source": [
    "### This notebook is to ingest the relationship between country, ccq, psc, company into cloudant database\n"
   ]
  },
  {
   "cell_type": "code",
   "execution_count": null,
   "metadata": {},
   "outputs": [],
   "source": [
    "import sys\n",
    "sys.path.append('/odm_modules')\n",
    "import pandas as pd\n",
    "import numpy as np\n",
    "from common_func import odm_conn"
   ]
  },
  {
   "cell_type": "code",
   "execution_count": null,
   "metadata": {},
   "outputs": [],
   "source": [
    "sql = '''\n",
    "select  CCOMPAIW, CCOUNTRY||CCOUNTRQ AS CCQ, SUBSTR(RCNUM, 7,3) AS PSC, CFDRSRC, CACTIVE, COUNT(*) as CNT\n",
    "from ODMPRD.ODMT_EMPLOYEE\n",
    "WHERE \n",
    "1=1\n",
    "-- AND CFDRSRC IN ('HHA', 'HHP', 'HHE', 'HZA', 'HC9', 'HPH', 'HSW', 'HNW', 'HHI','HHJ')\n",
    "GROUP BY \n",
    "CCOUNTRY||CCOUNTRQ ,CCOMPAIW,SUBSTR(RCNUM, 7,3) , CFDRSRC, CACTIVE\n",
    "'''\n",
    "sql_company = \"\"\" select CCOMPANY, TCOMPANY FROM ODMPRD.ODMT_ODM_COMPANY WHERE FDISCONT <> 'Y' and CLANGUAG = '' \"\"\"\n",
    "sql_ctry = \"\"\" select CISOCTRY, TISOCTRY FROM ODMPRD.ODMT_COUNTRYISO WHERE FDISCONT <> 'Y' AND CLANGUAG = '' \"\"\"\n",
    "with odm_conn.odm_adhoc('prod') as odmprd_adhoc: \n",
    "    result = odmprd_adhoc(sql)\n",
    "    result_company = odmprd_adhoc(sql_company)\n",
    "    result_ctry = odmprd_adhoc(sql_ctry)"
   ]
  },
  {
   "cell_type": "code",
   "execution_count": null,
   "metadata": {},
   "outputs": [],
   "source": [
    "df_comp = pd.DataFrame(result_company).applymap(lambda x: x.strip())\n",
    "comp_dict = dict(df_comp.values)\n",
    "df = pd.DataFrame(result)\n",
    "comp_dict"
   ]
  },
  {
   "cell_type": "code",
   "execution_count": null,
   "metadata": {},
   "outputs": [],
   "source": [
    "ctry_dict = dict(pd.DataFrame(result_ctry).applymap(lambda x: x.strip()).values)\n",
    "ctry_dict"
   ]
  },
  {
   "cell_type": "code",
   "execution_count": null,
   "metadata": {},
   "outputs": [],
   "source": [
    "# the dataframe for active employee only\n",
    "#df_a = df.loc[df.CACTIVE == 'A'].sort_values('CCQ').reset_index(drop= True)\n",
    "df.pivot_table(index = [ 'CCOMPAIW', 'CCQ','PSC', 'CFDRSRC'], \n",
    "               columns = 'CACTIVE', \n",
    "               values = 'CNT', \n",
    "               aggfunc = 'sum', \n",
    "               margins = True, \n",
    "              margins_name = 'Total').fillna(0).astype(int)"
   ]
  },
  {
   "cell_type": "markdown",
   "metadata": {},
   "source": [
    "#### relation is to define the relationship between two data fields in odm database."
   ]
  },
  {
   "cell_type": "code",
   "execution_count": null,
   "metadata": {},
   "outputs": [],
   "source": []
  },
  {
   "cell_type": "code",
   "execution_count": null,
   "metadata": {},
   "outputs": [],
   "source": [
    "def relation(map_from, map_to, df):\n",
    "    df_temp = df.groupby([map_from, map_to]).CNT.sum().reset_index()\n",
    "    idx = df_temp.CNT == df_temp.groupby(map_from).CNT.transform(max).reset_index().CNT  # Change == to != , then you can see which record is discarded\n",
    "    df_temp = df_temp.loc[idx]\n",
    "    map_dict = dict(df_temp[[map_from, map_to]].values)\n",
    "    #print(map_dict)\n",
    "    return map_dict"
   ]
  },
  {
   "cell_type": "code",
   "execution_count": null,
   "metadata": {},
   "outputs": [],
   "source": [
    "df"
   ]
  },
  {
   "cell_type": "markdown",
   "metadata": {},
   "source": [
    "### get all the stange record based on CCQ"
   ]
  },
  {
   "cell_type": "code",
   "execution_count": null,
   "metadata": {},
   "outputs": [],
   "source": [
    "df_a = df.copy().groupby(['CCOMPAIW', 'CCQ', 'PSC', 'CFDRSRC']).CNT.apply(sum).reset_index()\n",
    "df_a.to_excel('temp1.xlsx')\n",
    "threshhold = 10 # set the threshhold = 10\n",
    "condition = (df_a.CNT != df_a.groupby('CCOMPAIW').CNT.transform(max)) & (df_a.CNT <threshhold)\n",
    "\n",
    "df_abnormal_comp = df_a.loc[condition].reset_index(drop = True)\n",
    "df_normal_comp = df_a.loc[~condition].reset_index(drop = True)\n",
    "df_normal_comp.to_excel('temp3.xlsx')\n",
    "#df_normal_comp['COMMENT'] = df_normal_comp.CCQ + ' '+ df_normal_comp.PSC + ' '+ df_normal_comp.CFDRSRC + ' '+ df_normal_comp.CNT.astype(str)\n",
    "df_normal_comp['COMMENT'] = df_normal_comp.apply(lambda row: \"Company/{}, CCQ/{}, PSC/{}, Feeder/{}\".format(row.CCOMPAIW, row.CCQ, row.PSC, row.CFDRSRC), axis = 1)\n",
    "df_normal_comp_all = df_normal_comp.copy().drop(columns = ['CNT', 'COMMENT']).drop_duplicates()\n",
    "df_normal_comp = df_normal_comp.loc[:, ['CCOMPAIW', 'COMMENT']]\n",
    "\n",
    "df_abnormal_comp.to_excel('temp2.xlsx')\n"
   ]
  },
  {
   "cell_type": "markdown",
   "metadata": {},
   "source": [
    "### ----  Put the correct combination of CCQ, COMPANY CODE, PSD AND FEEDER CODE IN on box folder -----"
   ]
  },
  {
   "cell_type": "code",
   "execution_count": null,
   "metadata": {},
   "outputs": [],
   "source": [
    "xlsx_file = 'CCQ_COMP_PSC_COMBINATION.xlsx'\n",
    "df_normal_comp_all = df_normal_comp_all.reset_index(drop = True).sort_values(by = ['CFDRSRC', 'CCQ'])\n",
    "df_normal_comp_all['Company Name'] = df_normal_comp_all.CCOMPAIW.apply(lambda x: comp_dict.get(x, ''))\n",
    "df_normal_comp_all['Country Name'] = df_normal_comp_all.CCQ.apply(lambda x: ctry_dict.get(x[:2], ''))\n",
    "df_normal_comp_all"
   ]
  },
  {
   "cell_type": "markdown",
   "metadata": {},
   "source": [
    "\n",
    "https://ibm.ent.box.com/folder/121861696742"
   ]
  },
  {
   "cell_type": "code",
   "execution_count": null,
   "metadata": {},
   "outputs": [],
   "source": [
    "df_normal_comp_all.to_excel(xlsx_file, index = False)\n",
    "\n",
    "sys.path.append('/app')\n",
    "from BOX import box_oauth as box\n",
    "folder_id = '121861696742'\n",
    "client = box.get_box_client()\n",
    "box.save2box_folder(client, folder_id, xlsx_file)"
   ]
  },
  {
   "cell_type": "code",
   "execution_count": null,
   "metadata": {},
   "outputs": [],
   "source": [
    "df_normal_comp"
   ]
  },
  {
   "cell_type": "code",
   "execution_count": null,
   "metadata": {},
   "outputs": [],
   "source": [
    "df_merge_comp = df_abnormal_comp.merge(df_normal_comp, left_on = 'CCOMPAIW', right_on = 'CCOMPAIW', how = 'left')\n",
    "df_merge_comp['COMPANY NAME'] = df_merge_comp.CCOMPAIW.map(comp_dict)\n",
    "df_merge_comp['COMPANY NAME'] = df_merge_comp['CCOMPAIW'] + ':' + df_merge_comp['COMPANY NAME'] \n",
    "df_merge_comp = df_merge_comp.loc[df_merge_comp.CNT < threshhold]\n",
    "df_merge_comp = df_merge_comp.groupby(['CCOMPAIW', 'CCQ', 'PSC', 'CFDRSRC','CNT', 'COMPANY NAME']).COMMENT.apply(lambda x: \"Correct Combination: \" + ' OR '.join(x)).reset_index()"
   ]
  },
  {
   "cell_type": "code",
   "execution_count": null,
   "metadata": {},
   "outputs": [],
   "source": [
    "conds = []\n",
    "for row, value in df_merge_comp.iterrows():\n",
    "    cond = \"\"\" (CCOUNTRY||CCOUNTRQ = '{}' \\nAND CCOMPAIW = '{}' \\nAND SUBSTR(RCNUM, 7,3) = '{}' \\nAND CFDRSRC = '{}'  ) \"\"\".format(\n",
    "        value.CCQ, value.CCOMPAIW, value.PSC, value.CFDRSRC)\n",
    "    conds.append(cond)\n",
    "\n",
    "conds = '\\n OR \\n'.join(conds)\n",
    "#print(conds)"
   ]
  },
  {
   "cell_type": "code",
   "execution_count": null,
   "metadata": {},
   "outputs": [],
   "source": [
    " \n",
    "sql = '''\n",
    "select \n",
    "RCNUM, \n",
    "DUPDATE, \n",
    "CACTIVE, \n",
    "CCOUNTRY||CCOUNTRQ AS CCQ, \n",
    "CCOMPAIW, \n",
    "CFDRSRC, \n",
    "SUBSTR(RCNUM, 7, 3) AS PSC\n",
    "from ODMPRD.ODMT_EMPLOYEE\n",
    "WHERE \n",
    "{}\n",
    "--fetch first 100 rows only \n",
    "'''.format(conds)\n",
    "print(sql)\n",
    "with odm_conn.odm_adhoc('prod') as odmprd_adhoc: \n",
    "    result = odmprd_adhoc(sql)"
   ]
  },
  {
   "cell_type": "code",
   "execution_count": null,
   "metadata": {},
   "outputs": [],
   "source": [
    "df_res = pd.DataFrame(result)\n",
    "df_final = df_merge_comp.merge(df_res, how = 'outer', on = [ 'CCQ', 'CCOMPAIW', 'CFDRSRC', 'PSC'])\n",
    "df_final= df_final.loc[:, ['RCNUM', 'DUPDATE', 'CACTIVE', 'CCQ', 'CCOMPAIW', 'PSC', 'CFDRSRC',  'COMMENT',\n",
    "       'COMPANY NAME' ]].sort_values(by = ['CFDRSRC', 'CCQ', 'DUPDATE']).reset_index(drop = True)\n",
    "df_final"
   ]
  },
  {
   "cell_type": "code",
   "execution_count": null,
   "metadata": {},
   "outputs": [],
   "source": [
    "xlsx_file_abnormal = 'potential_error_records_in_odm.xlsx'\n",
    "df_final.to_excel(xlsx_file_abnormal, index = False)"
   ]
  },
  {
   "cell_type": "markdown",
   "metadata": {},
   "source": [
    "\n",
    "https://ibm.ent.box.com/folder/117883222898"
   ]
  },
  {
   "cell_type": "code",
   "execution_count": null,
   "metadata": {},
   "outputs": [],
   "source": [
    "folder_id = '117883222898'\n",
    "box.save2box_folder(client, folder_id, xlsx_file_abnormal)"
   ]
  },
  {
   "cell_type": "markdown",
   "metadata": {},
   "source": [
    "##### get the corresponding feeder code for a given CTRY"
   ]
  },
  {
   "cell_type": "code",
   "execution_count": null,
   "metadata": {},
   "outputs": [],
   "source": [
    "df_a['CTRY'] = df_a.CCQ.str.slice(0,2)\n",
    "df_temp = df_a.groupby(['CTRY', 'CFDRSRC']).CNT.sum().reset_index()\n",
    "idx = df_temp.CNT == df_temp.groupby('CTRY').CNT.transform(max).reset_index().CNT  # Change == to != , then you can see which record is discarded\n",
    "df_temp = df_temp.loc[idx]\n",
    "dict(df_temp[['CTRY', 'CFDRSRC']].values)"
   ]
  },
  {
   "cell_type": "markdown",
   "metadata": {},
   "source": [
    "##### get the relationship between company code and feeder code"
   ]
  },
  {
   "cell_type": "code",
   "execution_count": null,
   "metadata": {},
   "outputs": [],
   "source": [
    "df_temp = df_a.groupby(['CCOMPAIW', 'CFDRSRC']).CNT.sum().reset_index()\n",
    "idx = df_temp.CNT == df_temp.groupby('CCOMPAIW').CNT.transform(max).reset_index().CNT  # Change == to != , then you can see which record is discarded\n",
    "df_temp = df_temp.loc[idx]\n",
    "dict(df_temp[['CCOMPAIW', 'CFDRSRC']].values)\n"
   ]
  },
  {
   "cell_type": "code",
   "execution_count": null,
   "metadata": {},
   "outputs": [],
   "source": [
    "relation('PSC', 'CFDRSRC', df)"
   ]
  },
  {
   "cell_type": "code",
   "execution_count": null,
   "metadata": {},
   "outputs": [],
   "source": [
    "df.loc[(df.CACTIVE == 'N')  & (df.CCQ == 'US '), :]"
   ]
  },
  {
   "cell_type": "code",
   "execution_count": null,
   "metadata": {},
   "outputs": [],
   "source": []
  },
  {
   "cell_type": "code",
   "execution_count": null,
   "metadata": {},
   "outputs": [],
   "source": []
  }
 ],
 "metadata": {
  "kernelspec": {
   "display_name": "Python 3",
   "language": "python",
   "name": "python3"
  },
  "language_info": {
   "codemirror_mode": {
    "name": "ipython",
    "version": 3
   },
   "file_extension": ".py",
   "mimetype": "text/x-python",
   "name": "python",
   "nbconvert_exporter": "python",
   "pygments_lexer": "ipython3",
   "version": "3.6.9"
  }
 },
 "nbformat": 4,
 "nbformat_minor": 2
}
