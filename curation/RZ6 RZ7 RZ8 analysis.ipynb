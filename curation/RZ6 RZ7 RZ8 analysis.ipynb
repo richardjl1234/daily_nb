{
 "cells": [
  {
   "cell_type": "code",
   "execution_count": null,
   "metadata": {},
   "outputs": [],
   "source": [
    "import sys\n",
    "import collections \n",
    "sys.path.append('/odm_modules')\n",
    "from common_func import odm_conn\n",
    "import pandas as pd\n",
    "import numpy as np\n",
    "pd.options.display.max_rows = 1000\n",
    "pd.options.display.max_columns = None\n",
    "pd.options.display.max_colwidth = 0"
   ]
  },
  {
   "cell_type": "code",
   "execution_count": null,
   "metadata": {},
   "outputs": [],
   "source": [
    "with odm_conn.odm_adhoc('prod') as odmprd_adhoc:\n",
    "     result = odmprd_adhoc('select * from odmprd.odmt_employee fetch first 1 rows only')\n",
    "df = pd.DataFrame(result)\n",
    "df.head()"
   ]
  },
  {
   "cell_type": "code",
   "execution_count": null,
   "metadata": {},
   "outputs": [],
   "source": [
    "sheets = ['RZ6', 'RZ7', 'RZ8']\n",
    "dfs = {sheet:pd.read_excel('RZ6 RZ7 RZ8 PROD.xlsx', sheet_name = sheet, header = 2).fillna('') for sheet in sheets}"
   ]
  },
  {
   "cell_type": "code",
   "execution_count": null,
   "metadata": {},
   "outputs": [],
   "source": [
    "df.T"
   ]
  },
  {
   "cell_type": "code",
   "execution_count": null,
   "metadata": {},
   "outputs": [],
   "source": [
    "dfs['RZ6'].head()"
   ]
  },
  {
   "cell_type": "code",
   "execution_count": null,
   "metadata": {},
   "outputs": [],
   "source": [
    "col_dict = {sheet: df.iloc[:1, 1:].squeeze().to_dict() for sheet, df in dfs.items()}\n",
    "dfs = {sheet: df.loc[df.C != '*'].drop(columns = ['C', 'CMODEL', 'CLANGUAG', 'QSORTSEQ']) for sheet, df in dfs.items()}"
   ]
  },
  {
   "cell_type": "code",
   "execution_count": null,
   "metadata": {},
   "outputs": [],
   "source": [
    "dfs['RZ6'] = dfs['RZ6'].drop(columns = ['FDISCONT', 'TTONAME', 'TPONAME'])\n",
    "dfs['RZ7'] = dfs['RZ7'].drop(columns = ['FDISCONT'])\n",
    "dfs['RZ8'] = dfs['RZ8'].drop(columns = ['CGPA', 'FDOU', 'DINTFSTR', 'DINTFEND'])"
   ]
  },
  {
   "cell_type": "code",
   "execution_count": null,
   "metadata": {},
   "outputs": [],
   "source": [
    "dfs['RZ6'].head()"
   ]
  },
  {
   "cell_type": "code",
   "execution_count": null,
   "metadata": {},
   "outputs": [],
   "source": [
    "dfs['RZ7'].head()"
   ]
  },
  {
   "cell_type": "code",
   "execution_count": null,
   "metadata": {},
   "outputs": [],
   "source": [
    "dfs['RZ8'].head()"
   ]
  },
  {
   "cell_type": "code",
   "execution_count": null,
   "metadata": {},
   "outputs": [],
   "source": [
    "df_final = dfs['RZ8'].merge(dfs['RZ6'], how = 'left', on = 'CAPPLID')\n",
    "df_final.to_excel('temp.xlsx')"
   ]
  },
  {
   "cell_type": "code",
   "execution_count": null,
   "metadata": {},
   "outputs": [],
   "source": [
    "df_x = dfs['RZ7'].merge(dfs['RZ8'], how = 'left', on = 'CINTFTYP')\n",
    "df_x"
   ]
  },
  {
   "cell_type": "code",
   "execution_count": null,
   "metadata": {},
   "outputs": [],
   "source": []
  }
 ],
 "metadata": {
  "kernelspec": {
   "display_name": "Python 3",
   "language": "python",
   "name": "python3"
  },
  "language_info": {
   "codemirror_mode": {
    "name": "ipython",
    "version": 3
   },
   "file_extension": ".py",
   "mimetype": "text/x-python",
   "name": "python",
   "nbconvert_exporter": "python",
   "pygments_lexer": "ipython3",
   "version": "3.8.2"
  }
 },
 "nbformat": 4,
 "nbformat_minor": 2
}
