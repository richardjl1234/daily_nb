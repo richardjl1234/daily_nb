{
 "cells": [
  {
   "cell_type": "markdown",
   "metadata": {},
   "source": [
    "## Lineage STEP 3: We use the following notebook to process the spreadsheet we obtained from the lineage_analysis program"
   ]
  },
  {
   "cell_type": "markdown",
   "metadata": {},
   "source": [
    "### The final ODM data linage file will be stored in the following box folder: \n",
    "    \n",
    "https://ibm.ent.box.com/folder/117380324021"
   ]
  },
  {
   "cell_type": "code",
   "execution_count": null,
   "metadata": {},
   "outputs": [],
   "source": [
    "import sys\n",
    "sys.path.append('/odm_modules')\n",
    "import pandas as pd\n",
    "from common_func import odm_conn\n",
    "from common_func import cloudant_conn\n",
    "import re\n",
    "sys.path.append('/app')\n",
    "from BOX import box_oauth as box "
   ]
  },
  {
   "cell_type": "code",
   "execution_count": null,
   "metadata": {},
   "outputs": [],
   "source": [
    "app_list  = ['odm', 'odmr']\n",
    "suffix = ''"
   ]
  },
  {
   "cell_type": "code",
   "execution_count": null,
   "metadata": {},
   "outputs": [],
   "source": [
    "environ_suffix = ''   # when production usage\n",
    "\n",
    "cloudant_db_name = 'ddl{}'.format(environ_suffix) # the cloudant database name to be ingested\n",
    "cloudant_conn.cloudant_client.connect()\n",
    "df_rz1 = pd.DataFrame(list(cloudant_conn.cloudant_client['rz1{}'.format(environ_suffix)]))\n",
    "df_rz3 = pd.DataFrame(list(cloudant_conn.cloudant_client['rz3{}'.format(environ_suffix)]))\n",
    "df_rz1"
   ]
  },
  {
   "cell_type": "code",
   "execution_count": null,
   "metadata": {},
   "outputs": [],
   "source": [
    "rz1_dict = df_rz1.loc[:, ['_id', 'table_name']].set_index('table_name').to_dict()['_id']\n",
    "rz1_dict\n",
    "rz3_dict = df_rz3.loc[:, ['_id', 'table_name']].set_index('table_name').to_dict()['_id']\n",
    "rz1_dict.get('ODMT_EMPLOYEE')\n",
    "rz_dict = {**rz1_dict, **rz3_dict}\n",
    "rz_dict.get('TODM_EMPLOYEE', '')\n",
    "rz_dict_converted = {k: ' ({}) '.format(v)   for k, v in rz_dict.items()}\n",
    "rz_dict_converted.get('ODMT_EMPLOYEE')\n"
   ]
  },
  {
   "cell_type": "markdown",
   "metadata": {},
   "source": [
    "### process_cols and one_round is a fixed function which to be called, don't touch this"
   ]
  },
  {
   "cell_type": "code",
   "execution_count": null,
   "metadata": {},
   "outputs": [],
   "source": [
    "def process_cols(row):\n",
    "    if row.source_2 != '': \n",
    "        row.source_2, row.source = row.source, row.source_2\n",
    "        row.bridge = '|'.join([row.bridge , row.bridge_2])\n",
    "        row.mapping_rule = ' <==== '.join([row.mapping_rule ,row.mapping_rule_2])\n",
    "    return row\n",
    "\n",
    "def row_split(row):\n",
    "    row['target_schema'] = row.target.split('.')[0]    \n",
    "    row['target_tbvw'] = row.target.split('.')[1]    \n",
    "    row['target_column'] = '.'.join(row.target.split('.')[2:])\n",
    "    row['source_schema'] = row.source.split('.')[0]    \n",
    "    row['source_tbvw'] = row.source.split('.')[1]    \n",
    "    row['source_column'] = '.'.join(row.source.split('.')[2:])\n",
    "    return row"
   ]
  },
  {
   "cell_type": "markdown",
   "metadata": {},
   "source": [
    "### The following function is one_round process, please repeat process the function until it print 'True'"
   ]
  },
  {
   "cell_type": "code",
   "execution_count": null,
   "metadata": {},
   "outputs": [],
   "source": [
    "def one_round(df_odm):\n",
    "    df_temp = df_odm.merge(df_odm, how = 'left', left_on = 'source', right_on = 'target' , suffixes = ('', '_2')).drop(columns = ['target_2', 'colno_2'])\n",
    "    df_temp = df_temp.drop_duplicates().fillna('')\n",
    "    df_temp = df_temp.apply(process_cols, axis = 1)\n",
    "    finished = all(df_temp.source_2 == '')\n",
    "    print('finished = ', finished)\n",
    "    df_temp.drop(columns = ['source_2', 'mapping_rule_2', 'bridge_2'], inplace = True)\n",
    "    return df_temp"
   ]
  },
  {
   "cell_type": "markdown",
   "metadata": {},
   "source": [
    "# Real Process starts from here"
   ]
  },
  {
   "cell_type": "code",
   "execution_count": null,
   "metadata": {},
   "outputs": [],
   "source": [
    "def attach_c09_2_odm(df):\n",
    "    print('add the contents of C09 into the result...')\n",
    "    sql = '''\n",
    "    WITH TB1 AS (\n",
    "    SELECT CFDRSRC, CTABLE, \n",
    "    CTABNAME\n",
    "    FROM \n",
    "    ODMPRD.ODMT_GI_AUTHORITY C09 LEFT OUTER JOIN\n",
    "    ODMPRD.ODMT_DDICT_TABLES RZ1\n",
    "    ON C09.CTABLE = RZ1.CTID\n",
    "    WHERE NITEM = '*'\n",
    "    )\n",
    "    SELECT CFDRSRC, NAME AS NITEM, CTABLE, CTABNAME\n",
    "    FROM TB1 LEFT OUTER JOIN\n",
    "    SYSIBM.SYSCOLUMNS SYC\n",
    "    ON \n",
    "    TB1.CTABNAME = SYC.TBNAME\n",
    "    AND SYC.TBCREATOR = 'ODMPRD'\n",
    "    where \n",
    "    NAME is not NULL\n",
    "\n",
    "    UNION\n",
    "\n",
    "    SELECT CFDRSRC, \n",
    "    NITEM\n",
    "    , CTABLE, CTABNAME\n",
    "    FROM \n",
    "    ODMPRD.ODMT_GI_AUTHORITY C09 LEFT OUTER JOIN\n",
    "    ODMPRD.ODMT_DDICT_TABLES RZ1\n",
    "    ON C09.CTABLE = RZ1.CTID\n",
    "    WHERE NITEM <> '*'\n",
    "\n",
    "    '''\n",
    "    with odm_conn.odm_adhoc('prod') as odmprd_adhoc:\n",
    "        result = odmprd_adhoc(sql)\n",
    "    df_c09 = pd.DataFrame(result)\n",
    "    df_c09.columns = ['tgt_tbvw', 'tgt_col_final', 'tid', 'src_tbvw']\n",
    "    df_c09['tgt_schema'] = 'ODMPRD'\n",
    "    df_c09['src_col'] = df_c09.tgt_col_final\n",
    "    df_c09['src_schema'] = df_c09.tgt_schema\n",
    "    df_c09['mapping_rule'] = '@TGT@ = @SRC@'\n",
    "    df_c09['colno'] = 0\n",
    "    df_c09 = df_c09.loc[:, ['colno', 'tgt_schema', 'tgt_tbvw', 'tgt_col_final', 'src_schema', 'src_tbvw', 'src_col', 'mapping_rule']]\n",
    "    df_c09 = df_c09.applymap(lambda x: x.strip() if isinstance(x, str) else x)\n",
    "\n",
    "    df = df.loc[:, ['colno', 'tgt_schema', 'tgt_tbvw', 'tgt_col_final', 'src_schema', 'src_tbvw', 'src_col', 'mapping_rule']]\n",
    "    df = pd.concat([df, df_c09])\n",
    "    return df"
   ]
  },
  {
   "cell_type": "code",
   "execution_count": null,
   "metadata": {},
   "outputs": [],
   "source": [
    "def generate_view_table_relation(app, suffix=suffix):\n",
    "    print('Processing for application {}'.format(app))\n",
    "    df_odm = pd.read_csv('/result/{}_views{}.txt_parse.csv'.format(app, suffix)).fillna('')\n",
    "    if app == 'odm':\n",
    "        df_odm = attach_c09_2_odm(df_odm)\n",
    "    df_odm['target'] = df_odm.tgt_schema + '.' + df_odm.tgt_tbvw + '.' + df_odm.tgt_col_final\n",
    "    df_odm['source'] = df_odm.src_schema + '.' + df_odm.src_tbvw + '.' + df_odm.src_col\n",
    "    df_odm['bridge'] = df_odm.tgt_tbvw + '<<' +   df_odm.src_tbvw\n",
    "        \n",
    "    df_odm.mapping_rule = df_odm.apply(lambda row: ' <== '.\n",
    "                                       join([row.tgt_col_final, row.src_col]) \n",
    "                                       if row.mapping_rule == '@TGT@ = @SRC@' \n",
    "                                       else row.mapping_rule , axis = 1)\n",
    "    df_odm = df_odm.loc[:, ['colno','target', 'source', 'mapping_rule' , 'bridge']]\n",
    "    df = one_round(df_odm)\n",
    "    df = one_round(df)\n",
    "    df = one_round(df)\n",
    "    df = one_round(df)\n",
    "    print(df.shape)\n",
    "    df = df.loc[~df.target.str.contains('____')]\n",
    "    print(df.shape)\n",
    "    df = df.apply(row_split, axis = 1)\n",
    "\n",
    "    df['source_tid'] = df.source_tbvw.apply(lambda x: rz_dict.get(x, ''))\n",
    "    df['target_tid'] = df.target_tbvw.apply(lambda x: rz_dict.get(x, ''))\n",
    "    df = df.loc[:,['colno', 'target_schema','target_tbvw', 'target_tid','target_column', \n",
    "                   'source_schema', 'source_tbvw','source_tid', 'source_column', 'mapping_rule', 'bridge']]\n",
    "\n",
    "    df.bridge = df.apply(lambda row: row.target_tbvw + '<<' + row.target_tbvw + '|' + row.bridge, axis = 1)\n",
    "    df.bridge = df.bridge.apply(lambda item: ' <<< '.\n",
    "                                join([x.split('<<')[1] +  rz_dict_converted.get(x.split('<<')[1].strip(), '')   \n",
    "                                      for x in item.split('|')]))\n",
    "    df.to_excel('/result/lineage/{}view_final{}.xlsx'.format(app, suffix), index = False)\n",
    "    print('the process COMPLETED!\\n')"
   ]
  },
  {
   "cell_type": "code",
   "execution_count": null,
   "metadata": {},
   "outputs": [],
   "source": [
    "list(map(generate_view_table_relation, app_list))"
   ]
  },
  {
   "cell_type": "code",
   "execution_count": null,
   "metadata": {},
   "outputs": [],
   "source": [
    "df = pd.read_excel('/result/lineage/odmview_final.xlsx')\n",
    "#df.head()"
   ]
  },
  {
   "cell_type": "markdown",
   "metadata": {},
   "source": [
    "## Disard non-important views and get ready odmview_final.xlsx"
   ]
  },
  {
   "cell_type": "code",
   "execution_count": null,
   "metadata": {},
   "outputs": [],
   "source": [
    "def discard_views(view_name):\n",
    "    if view_name[:5] in ['ODMA_', 'ODMP_', 'ODME_',  'ODMH_', 'ODMUE', 'ODMUA', 'ODMUP']:\n",
    "        return False\n",
    "    elif re.match(r\"ODMV_[VAEFD][0-9][0-9]$\", view_name) or re.match(r\"ODMV_[AEFD][0-9][0-9]_STAT$\", view_name):\n",
    "        return False\n",
    "    elif re.match(r\"ODMV_R[0-9A-Z][0-9A-Z]$\", view_name) :\n",
    "        return False\n",
    "    elif re.match(r\"ODMV_REF_TABLE_..$\", view_name) :\n",
    "        return False\n",
    "    elif re.match(r\"ODMC_WF360\", view_name):\n",
    "        return True\n",
    "    elif re.match(r\"ODMC_\", view_name):\n",
    "        return False\n",
    "    else: \n",
    "        return True\n",
    "    \n",
    "df_final = df.loc[list(map(discard_views, df.target_tbvw))].fillna('')\n",
    "df_final = df_final.loc[df_final.source_schema != 'ODMPRD_HARDCODE'].fillna('')\n",
    "\n",
    "df_final.target_tid = df_final.apply(lambda row: row['target_tbvw'] if row['target_tid'] == ''  else row['target_tid'], axis = 1)\n",
    "df_final.source_tid = df_final.apply(lambda row: row['source_tbvw'] if row['source_tid'] == ''  else row['source_tid'], axis = 1)\n",
    "df_final.to_excel('/result/lineage/odmviews_final_filtered.xlsx', index = False)"
   ]
  },
  {
   "cell_type": "raw",
   "metadata": {},
   "source": [
    "for x in df_final.target_tbvw.unique():\n",
    "    print(x)"
   ]
  },
  {
   "cell_type": "raw",
   "metadata": {},
   "source": [
    "df_final = df_final.loc[(df_final.source_tid == 'E01') & \n",
    "             (df_final.source_column.isin(['TNAMLAST', 'TNAMFRST', 'CSALBIW']))].iloc[:, [2,3,4,6,8]].fillna('')\n",
    "df_final = df_final.applymap(lambda x: x.strip())\n",
    "df_final.to_excel('temp.xlsx', index = False)"
   ]
  },
  {
   "cell_type": "markdown",
   "metadata": {},
   "source": [
    "## get the information from RZ8 which will be used for joining with the odmview table. "
   ]
  },
  {
   "cell_type": "code",
   "execution_count": null,
   "metadata": {},
   "outputs": [],
   "source": [
    "with odm_conn.odm_adhoc('prod') as odmprd_adhoc: \n",
    "    result = odmprd_adhoc(\"select CAPPLID, CFDRSRC ,TINTFID from odmprd.ODMT_IF_INTERFACE where CINTFDIR = 'D' and CFDRSRC <> '' \")\n",
    "df_rz8 = pd.DataFrame(result).applymap(lambda x: x.strip())"
   ]
  },
  {
   "cell_type": "code",
   "execution_count": null,
   "metadata": {},
   "outputs": [],
   "source": [
    "df_final_v1 = df_final.merge(df_rz8, how = 'left', left_on = 'target_tid', right_on = 'CFDRSRC').fillna('')\n",
    "df_final_v1.CAPPLID = df_final_v1.apply(lambda row: 'Unknown APP(not found in RZ8)' if row['CFDRSRC'] == '' else row['CAPPLID'], axis = 1)\n",
    "df_final_v1.CFDRSRC = df_final_v1.apply(lambda row: row['target_tid'] if row['CFDRSRC'] == '' else row['CFDRSRC'], axis = 1)\n",
    "col_list = 'source_schema\tsource_tid\tsource_column\tCAPPLID\tCFDRSRC\tTINTFID'.split()\n",
    "col_list = ['{}'.format(col) for col in col_list]\n",
    "df_final_v1 = df_final_v1[col_list]\n",
    "df_final_v1['X'] = 'X'\n",
    "df_final_v1.to_excel('temp1.xlsx')"
   ]
  },
  {
   "cell_type": "raw",
   "metadata": {},
   "source": [
    "df_final_v1 = df_final_v1.drop_duplicates()\n",
    "df_final_v2 = df_final_v1.pivot(index = ['source_schema', 'source_tid', 'source_column'], columns = ['CAPPLID', 'CFDRSRC', 'TINTFID'])['X']"
   ]
  },
  {
   "cell_type": "code",
   "execution_count": null,
   "metadata": {},
   "outputs": [],
   "source": [
    "df_final_v1['IDX'] = df_final_v1.apply(lambda row: row['source_schema'] + '|' + row['source_tid'] + '|' + row['source_column'], axis = 1 )\n",
    "df_final_v1['COL'] = df_final_v1.apply(lambda row: row['CAPPLID'] + '|' + row['TINTFID'] + '|' + row['CFDRSRC'], axis = 1 )\n",
    "df_final_v1.drop(columns = ['source_schema', 'source_tid', 'source_column', 'CAPPLID', 'CFDRSRC', 'TINTFID'], inplace = True)\n",
    "df_final_v2 = df_final_v1.drop_duplicates()\n",
    "df_final_v2 = df_final_v2.pivot(index = 'IDX', columns = 'COL', values = 'X').fillna('')\n",
    "df_final_v2['Total|Total|Total'] = df_final_v2.apply(lambda row: row[row=='X'].shape[0], axis = 1)\n",
    "df_final_v2.index = pd.MultiIndex.from_tuples([tuple(idx.split('|'))   for idx in df_final_v2.index], \n",
    "                                              names = ('schema', 'tid', 'column'))\n",
    "df_final_v2.columns = pd.MultiIndex.from_tuples([tuple(cols.split('|'))   for cols in df_final_v2.columns])\n",
    "df_final_v2.reset_index(inplace = True)\n",
    "\n",
    "xlsx_file = 'odm data lineage.xlsx'\n",
    "df_final_v2.to_excel(xlsx_file)\n",
    "#df_final_v2.T.to_excel('temp2_T.xlsx')\n"
   ]
  },
  {
   "cell_type": "code",
   "execution_count": null,
   "metadata": {},
   "outputs": [],
   "source": [
    "xlsx_file_odmr = 'odmrview_final.xlsx'\n",
    "from shutil import copyfile\n",
    "copyfile(\"/result/lineage/odmrview_final.xlsx\", xlsx_file_odmr)\n",
    "# Add the filtered data for ODM\n",
    "xlsx_file_odm_filtered = 'odmviews_final_filtered.xlsx'\n",
    "copyfile(\"/result/lineage/odmviews_final_filtered.xlsx\", xlsx_file_odm_filtered)"
   ]
  },
  {
   "cell_type": "code",
   "execution_count": null,
   "metadata": {},
   "outputs": [],
   "source": [
    "import openpyxl\n",
    "from openpyxl.styles import Color, PatternFill, Font, Border, Alignment\n",
    "from openpyxl.styles import colors\n",
    "from openpyxl.cell import Cell\n",
    "greenFill = PatternFill(start_color='CCCCFF11',\n",
    "               end_color='CCCCFF11',\n",
    "               fill_type='solid')\n",
    "lightRedFill = PatternFill(start_color='00EEAAEE',\n",
    "               end_color='00EEAAEE',\n",
    "               fill_type='solid')\n",
    "redFill = PatternFill(start_color='00EE6600',\n",
    "               end_color='00EE6600',\n",
    "               fill_type='solid')\n",
    "colFill = PatternFill(start_color='CCCCCCFF',\n",
    "               end_color='CCCCCCFF',\n",
    "               fill_type='solid')\n",
    "rowFill = PatternFill(start_color='AAEEEECC',\n",
    "               end_color='AAEEEECC',\n",
    "               fill_type='solid')\n",
    "\n",
    "greyFill = PatternFill(start_color='CCCCCCCC',\n",
    "               end_color='CCCCCCCC',\n",
    "               fill_type='solid')\n",
    "naFill = PatternFill(start_color='EECCFFFF',\n",
    "               end_color='EECCFFFF',\n",
    "               fill_type='solid')\n",
    "color = ['00DDDDDD', '00CCCCCC', '00AAAAAA' ,'00888888', '00666666'  ]\n",
    "colorFill = [PatternFill(start_color=c, end_color=c,fill_type='solid') for c in color]\n",
    "\n",
    "xfile = openpyxl.load_workbook(xlsx_file)\n",
    "sheet = xfile['Sheet1']\n",
    "# delete the empty row\n",
    "sheet.delete_rows(4,1)\n",
    "\n",
    "    # fill color\n",
    "for row in sheet.iter_rows(min_row=1, max_col=sheet.max_column, max_row=3):\n",
    "    for cell in row:\n",
    "        cell.fill = greenFill\n",
    "for row in sheet.iter_rows(min_row=4,min_col = 1, max_col=4, max_row=sheet.max_row):\n",
    "    for cell in row:\n",
    "        cell.fill = lightRedFill\n",
    "sheet.freeze_panes = sheet['E4'] \n",
    "            \n",
    "xfile.save(xlsx_file)"
   ]
  },
  {
   "cell_type": "code",
   "execution_count": null,
   "metadata": {},
   "outputs": [],
   "source": [
    "xfile = openpyxl.load_workbook(xlsx_file_odmr)\n",
    "sheet = xfile['Sheet1']\n",
    "for row in sheet.iter_rows(min_row=1, max_col=sheet.max_column, max_row=1):\n",
    "    for cell in row:\n",
    "        cell.fill = greenFill\n",
    "sheet.freeze_panes = sheet['F2'] \n",
    "            \n",
    "xfile.save(xlsx_file_odmr)"
   ]
  },
  {
   "cell_type": "code",
   "execution_count": null,
   "metadata": {},
   "outputs": [],
   "source": [
    "folder_id = '117380324021'  # METATEST folder\n",
    "client = box.get_box_client()\n",
    "box.save2box_folder(client, folder_id, xlsx_file) \n",
    "box.save2box_folder(client, folder_id, xlsx_file_odmr)\n",
    "# add the filter data for ODM\n",
    "box.save2box_folder(client, folder_id, xlsx_file_odm_filtered)"
   ]
  },
  {
   "cell_type": "markdown",
   "metadata": {},
   "source": [
    "## Create the summary table and posted in box folder"
   ]
  },
  {
   "cell_type": "code",
   "execution_count": null,
   "metadata": {},
   "outputs": [],
   "source": [
    "xlsx_file = 'odmrview_final.xlsx'\n",
    "xlsx_file_summary = 'odmrview_final_summary.xlsx'\n",
    "\n",
    "df_x = pd.read_excel('/result/lineage/{}'.format(xlsx_file))\n",
    "df_y = df_x[['target_schema', 'target_tbvw', 'target_tid', 'source_schema', 'source_tbvw', 'source_tid']]\n",
    "df_y = df_y.drop_duplicates()\n",
    "df_y.to_excel('/result/lineage/{}'.format(xlsx_file_summary), index = False)\n",
    "copyfile(\"/result/lineage/{}\".format(xlsx_file_summary), xlsx_file_summary)\n",
    "box.save2box_folder(client, folder_id, xlsx_file_summary) "
   ]
  },
  {
   "cell_type": "code",
   "execution_count": null,
   "metadata": {},
   "outputs": [],
   "source": [
    "xlsx_file = 'odmviews_final_filtered.xlsx'\n",
    "xlsx_file_summary = 'odmviews_final_filtered_summary.xlsx'\n",
    "\n",
    "df_x = pd.read_excel('/result/lineage/{}'.format(xlsx_file))\n",
    "df_y = df_x[['target_schema', 'target_tbvw', 'target_tid', 'source_schema', 'source_tbvw', 'source_tid']]\n",
    "df_y = df_y.drop_duplicates()\n",
    "df_y.to_excel('/result/lineage/{}'.format(xlsx_file_summary), index = False)\n",
    "copyfile(\"/result/lineage/{}\".format(xlsx_file_summary), xlsx_file_summary)\n",
    "box.save2box_folder(client, folder_id, xlsx_file_summary) "
   ]
  },
  {
   "cell_type": "raw",
   "metadata": {},
   "source": [
    "for idx, row in df_rz8.iterrows():\n",
    "    print(idx,)\n",
    "    print(row.T)"
   ]
  },
  {
   "cell_type": "markdown",
   "metadata": {},
   "source": [
    "### The following SQL is to identify all the invalid entry in C09 table, since the TID is already sunset"
   ]
  },
  {
   "cell_type": "raw",
   "metadata": {},
   "source": [
    "sql = '''\n",
    "\n",
    "    WITH TB1 AS (\n",
    "    SELECT CFDRSRC, CTABLE, \n",
    "    CTABNAME\n",
    "    FROM \n",
    "    ODMPRD.ODMT_GI_AUTHORITY C09 LEFT OUTER JOIN\n",
    "    ODMPRD.ODMT_DDICT_TABLES RZ1\n",
    "    ON C09.CTABLE = RZ1.CTID\n",
    "    WHERE NITEM = '*'\n",
    "    )\n",
    "    SELECT CFDRSRC, NAME AS NITEM, CTABLE, CTABNAME\n",
    "    FROM TB1 LEFT OUTER JOIN\n",
    "    SYSIBM.SYSCOLUMNS SYC\n",
    "    ON \n",
    "    TB1.CTABNAME = SYC.TBNAME\n",
    "    AND SYC.TBCREATOR = 'ODMPRD'\n",
    "    where \n",
    "    NAME is NULL\n",
    "'''\n",
    "with odm_conn.odm_adhoc('prod') as odmprd_adhoc:\n",
    "    result = odmprd_adhoc(sql)\n",
    "df_c09 = pd.DataFrame(result)\n",
    "df_c09"
   ]
  },
  {
   "cell_type": "code",
   "execution_count": null,
   "metadata": {},
   "outputs": [],
   "source": [
    "# df_x = pd.read_excel('/result/lineage/odmviews_final_filtered.xlsx')"
   ]
  }
 ],
 "metadata": {
  "kernelspec": {
   "display_name": "Python 3",
   "language": "python",
   "name": "python3"
  },
  "language_info": {
   "codemirror_mode": {
    "name": "ipython",
    "version": 3
   },
   "file_extension": ".py",
   "mimetype": "text/x-python",
   "name": "python",
   "nbconvert_exporter": "python",
   "pygments_lexer": "ipython3",
   "version": "3.6.9"
  }
 },
 "nbformat": 4,
 "nbformat_minor": 2
}
