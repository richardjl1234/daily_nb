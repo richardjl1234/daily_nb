{
 "cells": [
  {
   "cell_type": "markdown",
   "metadata": {},
   "source": [
    "#### Generate the spreadsheet template with data validataion"
   ]
  },
  {
   "cell_type": "code",
   "execution_count": null,
   "metadata": {},
   "outputs": [],
   "source": [
    "import sys\n",
    "sys.path.append('/odm_modules')\n",
    "import pandas as pd\n",
    "from common_func import odm_conn\n",
    "from common_func import odm_dict\n",
    "df_tid = odm_dict.odm_tid_df_from_csv()\n",
    "df_col = odm_dict.odm_col_df_from_csv()\n",
    "df_col = df_col.loc[df_col.NAME !=''] # remove those line which could not be found in systable\n",
    "df_tid = df_tid.loc[df_tid.NAME !='']\n",
    "tid_dict = df_tid.set_index('CTID')['CTABNAME'].to_dict()\n",
    "tid_desc_dict = df_tid.set_index('CTID')['TTID'].to_dict()\n",
    "df_col['tid_col'] = df_col.CTID + '.' + df_col.CCOLNAME\n",
    "data_class_dict = df_col.set_index('tid_col').CCLASS.to_dict()"
   ]
  },
  {
   "cell_type": "code",
   "execution_count": null,
   "metadata": {},
   "outputs": [],
   "source": [
    "def get_cols(tid):\n",
    "    keycol = df_col.loc[(df_col.CTID == tid) \n",
    "                        & (df_col.KEYSEQ !=0) \n",
    "                        & (~df_col.CCOLNAME.isin(['CMODEL', 'CLANGUAG']))\n",
    "                       ].CCOLNAME.iloc[0]\n",
    "    return [keycol, 'T' + keycol[1:]]"
   ]
  },
  {
   "cell_type": "code",
   "execution_count": null,
   "metadata": {},
   "outputs": [],
   "source": [
    "tids = ['RAY', 'RAB', 'R01', 'R03', 'R12', 'R16', 'R23', 'R27', 'RBL']\n",
    "model = 'WA'\n",
    "sql_temp = '''\n",
    "SELECT {cols} FROM ODMPRD.{tbname} \n",
    "WHERE CMODEL = '{model}' and clanguag = '' and fdiscont <>'Y' \n",
    "'''\n",
    "\n",
    "with odm_conn.odm_adhoc('prod') as odmprd_adhoc:\n",
    "\n",
    "    results = {tid: odmprd_adhoc(sql_temp.format(\n",
    "        cols =', '.join(get_cols(tid)),\n",
    "        model = model,\n",
    "        tbname = tid_dict[tid]\n",
    "    )) for tid in tids}\n",
    "    dfs = {tid: pd.DataFrame(result).applymap(lambda x: x.strip()) for tid, result in results.items()}\n",
    "dfs['R03']"
   ]
  },
  {
   "cell_type": "code",
   "execution_count": null,
   "metadata": {},
   "outputs": [],
   "source": [
    "import openpyxl\n",
    "from openpyxl.utils import quote_sheetname\n",
    "from openpyxl import Workbook\n",
    "from openpyxl.worksheet.datavalidation import DataValidation\n",
    "xlsx_file = 'temp_val6.xlsx'\n",
    "\n",
    "# Create the workbook and worksheet we'll be working with\n",
    "#wb = openpyxl.load_workbook(xlsx_file)\n",
    "wb = Workbook()\n",
    "dvs = dict()\n",
    "for tid in tids:\n",
    "    ws = wb.create_sheet(tid)\n",
    "    codes = dfs[tid].iloc[:,0]\n",
    "    descs = dfs[tid].iloc[:, 1]\n",
    "    for i, value  in enumerate(codes): #Generates 99 \"ip\" address in the Column A;\n",
    "        ws['A{}'.format(i+1)].value= value\n",
    "        ws['B{}'.format(i+1)].value= descs[i]\n",
    "    dv = DataValidation(type=\"list\",\n",
    "                        formula1=\"{}!$A:$A\".format(tid)\n",
    "                        ,allow_blank = True )\n",
    "    dv.error ='Your entry is not in the list'\n",
    "    dv.errorTitle = 'Invalid Entry'\n",
    "\n",
    "    dv.prompt = 'Please select from the list'\n",
    "    dv.promptTitle = 'List Selection'\n",
    "    ws.add_data_validation(dv)\n",
    "    dvs[tid] = dv"
   ]
  },
  {
   "cell_type": "code",
   "execution_count": null,
   "metadata": {},
   "outputs": [],
   "source": [
    "ws = wb['Sheet']\n",
    "for tid in tids: \n",
    "    ws.add_data_validation(dvs[tid])\n",
    "def value_gen(): \n",
    "    for tid in tids: \n",
    "        yield tid_dict[tid]\n",
    "        yield tid_desc_dict[tid]\n",
    "values = value_gen()        \n",
    "for row in ws.iter_rows(min_col = 1, max_col = 2, min_row = 1, max_row = len(tids)):\n",
    "    for cell in row: \n",
    "        cell.value = next(values)\n",
    "\n",
    "for i, tid in enumerate(tids): \n",
    "    dvs[tid].add(ws['C{}'.format(i+1)])\n"
   ]
  },
  {
   "cell_type": "code",
   "execution_count": null,
   "metadata": {},
   "outputs": [],
   "source": [
    "wb.save(xlsx_file)"
   ]
  },
  {
   "cell_type": "code",
   "execution_count": null,
   "metadata": {},
   "outputs": [],
   "source": []
  }
 ],
 "metadata": {
  "kernelspec": {
   "display_name": "Python 3",
   "language": "python",
   "name": "python3"
  },
  "language_info": {
   "codemirror_mode": {
    "name": "ipython",
    "version": 3
   },
   "file_extension": ".py",
   "mimetype": "text/x-python",
   "name": "python",
   "nbconvert_exporter": "python",
   "pygments_lexer": "ipython3",
   "version": "3.6.9"
  }
 },
 "nbformat": 4,
 "nbformat_minor": 2
}
